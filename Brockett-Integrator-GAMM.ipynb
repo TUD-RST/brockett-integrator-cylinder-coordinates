{
 "cells": [
  {
   "cell_type": "markdown",
   "metadata": {},
   "source": [
    "# Geometry-Inspired Control of the Brockett-Integrator in Cylindrical Coordinates\n",
    "\n",
    "This Notebook documents the important calculations for the conference contribution entitled \"Geometry-Inspired Control of the Brockett-Integrator in Cylinder Coordinates\" presented at the GAMM annual meeting 2018.\n",
    "\n"
   ]
  },
  {
   "cell_type": "markdown",
   "metadata": {},
   "source": [
    "Dieses Notebook investigates the Brockett-Integrator\n",
    "\n",
    "\n",
    "\\begin{align}\n",
    "%\\label{eq_}\n",
    "\\dot x_1 &= u_1\\\\\n",
    "\\dot x_2 &= u_2\\\\\n",
    "\\dot x_3 &= x_2 u_1 - x_1 u_2\n",
    "\\end{align}\n",
    "\n",
    "\n"
   ]
  },
  {
   "cell_type": "code",
   "execution_count": 1,
   "metadata": {},
   "outputs": [
    {
     "data": {
      "text/plain": [
       "'Tue Jul  3 14:24:03 2018'"
      ]
     },
     "execution_count": 1,
     "metadata": {},
     "output_type": "execute_result"
    }
   ],
   "source": [
    "import time\n",
    "time.ctime()"
   ]
  },
  {
   "cell_type": "markdown",
   "metadata": {},
   "source": [
    "### Technical Dependencies:\n",
    "\n",
    "\n",
    "https://github.com/TUD-RST/symbtools\n",
    "\n",
    "https://github.com/cknoll/ipydex (for displaytools)\n",
    "'"
   ]
  },
  {
   "cell_type": "code",
   "execution_count": 2,
   "metadata": {},
   "outputs": [],
   "source": [
    "%load_ext ipydex.displaytools\n",
    "\n",
    "import sympy as sp\n",
    "from sympy import sin, cos, exp\n",
    "import numpy as np\n",
    "import scipy as sc\n",
    "import scipy.integrate\n",
    "import scipy.interpolate\n",
    "import matplotlib.pyplot as plt\n",
    "%matplotlib inline\n",
    "\n",
    "import symbtools as st\n",
    "from sympy.interactive import printing\n",
    "printing.init_printing(1)\n",
    "\n",
    "\n",
    "plt.rc('text.latex', preamble=r'\\usepackage{amsmath}') # for \\text{..}\n",
    "plt.rcParams['text.usetex'] = True\n",
    "\n",
    "plt.rcParams['figure.subplot.bottom'] = .3\n",
    "plt.rcParams['figure.subplot.left'] = .21\n",
    "plt.rcParams['figure.subplot.top'] = .98\n",
    "plt.rcParams['figure.subplot.right'] = .98\n",
    "\n",
    "plt.rcParams['figure.subplot.hspace'] = .5 # vertical distance\n",
    "plt.rcParams['figure.subplot.wspace'] = .5 # horizontal distance\n",
    "\n",
    "plt.rcParams['font.size'] = 14\n",
    "plt.rcParams['axes.labelsize'] = 14\n"
   ]
  },
  {
   "cell_type": "code",
   "execution_count": 3,
   "metadata": {},
   "outputs": [],
   "source": [
    "xx = st.symb_vector(\"x1:4\")\n",
    "uu = st.symb_vector(\"u1:3\")\n",
    "zz = st.symb_vector(\"z1:4\")\n",
    "vv = st.symb_vector(\"v1:3\")\n",
    "st.make_global(xx, uu, zz, vv)"
   ]
  },
  {
   "cell_type": "markdown",
   "metadata": {},
   "source": [
    "### Can the system be transformed to the *regular Form* (Khalil p. 564)?\n",
    "→ Investigation of involutivity."
   ]
  },
  {
   "cell_type": "code",
   "execution_count": 4,
   "metadata": {},
   "outputs": [
    {
     "data": {
      "image/png": "[encoded data removed]",
      "text/latex": [
       "$$\\verb|b1| := \\left[\\begin{matrix}1\\\\0\\\\x_{2}\\end{matrix}\\right]$$"
      ],
      "text/plain": [
       "b1 := ⎡1 ⎤\n",
       "⎢  ⎥\n",
       "⎢0 ⎥\n",
       "⎢  ⎥\n",
       "⎣x₂⎦"
      ]
     },
     "metadata": {},
     "output_type": "display_data"
    },
    {
     "name": "stdout",
     "output_type": "stream",
     "text": [
      "---\n"
     ]
    },
    {
     "data": {
      "image/png": "[encoded data removed]",
      "text/latex": [
       "$$\\verb|b2| := \\left[\\begin{matrix}0\\\\1\\\\- x_{1}\\end{matrix}\\right]$$"
      ],
      "text/plain": [
       "b2 := ⎡ 0 ⎤\n",
       "⎢   ⎥\n",
       "⎢ 1 ⎥\n",
       "⎢   ⎥\n",
       "⎣-x₁⎦"
      ]
     },
     "metadata": {},
     "output_type": "display_data"
    },
    {
     "name": "stdout",
     "output_type": "stream",
     "text": [
      "---\n"
     ]
    }
   ],
   "source": [
    "b1 = sp.Matrix([1, 0, x2]) ##:\n",
    "b2 = sp.Matrix([0, 1, -x1]) ##:\n",
    "B = st.col_stack(b1, b2)"
   ]
  },
  {
   "cell_type": "markdown",
   "metadata": {},
   "source": [
    "Involutivitäts-Test"
   ]
  },
  {
   "cell_type": "code",
   "execution_count": 5,
   "metadata": {},
   "outputs": [
    {
     "data": {
      "text/plain": [
       "(False, (0, 1))"
      ]
     },
     "execution_count": 5,
     "metadata": {},
     "output_type": "execute_result"
    }
   ],
   "source": [
    "st.involutivity_test(B, xx)"
   ]
  },
  {
   "cell_type": "markdown",
   "metadata": {},
   "source": [
    "→ not involutive.\n",
    "\n",
    "\n",
    "This can also be seen directly:"
   ]
  },
  {
   "cell_type": "code",
   "execution_count": 6,
   "metadata": {},
   "outputs": [
    {
     "data": {
      "image/png": "[encoded data removed]",
      "text/latex": [
       "$$\\left[\\begin{matrix}0\\\\0\\\\-2\\end{matrix}\\right]$$"
      ],
      "text/plain": [
       "⎡0 ⎤\n",
       "⎢  ⎥\n",
       "⎢0 ⎥\n",
       "⎢  ⎥\n",
       "⎣-2⎦"
      ]
     },
     "metadata": {},
     "output_type": "display_data"
    },
    {
     "name": "stdout",
     "output_type": "stream",
     "text": [
      "---\n"
     ]
    }
   ],
   "source": [
    "ad_b1_b2 = st.lie_bracket(b1, b2, xx) ##"
   ]
  },
  {
   "cell_type": "markdown",
   "metadata": {},
   "source": [
    "Thus the Lie-Algebra-Rank-Condition obviously is fulfilled:"
   ]
  },
  {
   "cell_type": "code",
   "execution_count": 7,
   "metadata": {},
   "outputs": [
    {
     "data": {
      "image/png": "[encoded data removed]",
      "text/latex": [
       "$$\\verb|test_matrix| := \\left[\\begin{matrix}1 & 0 & 0\\\\0 & 1 & 0\\\\x_{2} & - x_{1} & -2\\end{matrix}\\right]$$"
      ],
      "text/plain": [
       "test_matrix := ⎡1    0   0 ⎤\n",
       "⎢           ⎥\n",
       "⎢0    1   0 ⎥\n",
       "⎢           ⎥\n",
       "⎣x₂  -x₁  -2⎦"
      ]
     },
     "metadata": {},
     "output_type": "display_data"
    },
    {
     "name": "stdout",
     "output_type": "stream",
     "text": [
      "---\n"
     ]
    },
    {
     "data": {
      "image/png": "[encoded data removed]",
      "text/latex": [
       "$$3$$"
      ],
      "text/plain": [
       "3"
      ]
     },
     "execution_count": 7,
     "metadata": {},
     "output_type": "execute_result"
    }
   ],
   "source": [
    "test_matrix = st.col_stack(b1, b2, ad_b1_b2) ##:\n",
    "st.generic_rank(test_matrix)"
   ]
  },
  {
   "cell_type": "markdown",
   "metadata": {},
   "source": [
    "### Derivation of a switiching control law, which renders the origin globally asymptotically stable\n",
    " * based on a representation in cylindrical coordinates\n",
    "\n",
    "Reminder: original coordinate representation:\n",
    "\n",
    "$\n",
    "\\begin{align}\n",
    "%\\label{eq_}\n",
    "\\dot x_1 &= u_1\\\\\n",
    "\\dot x_2 &= u_2\\\\\n",
    "\\dot x_3 &= x_2 u_1 - x_1 u_2\n",
    "\\end{align}\n",
    "$"
   ]
  },
  {
   "cell_type": "code",
   "execution_count": 8,
   "metadata": {},
   "outputs": [
    {
     "data": {
      "image/png": "[encoded data removed]",
      "text/latex": [
       "$$\\verb|ff| := \\left[\\begin{matrix}u_{1}\\\\u_{2}\\\\u_{1} x_{2} - u_{2} x_{1}\\end{matrix}\\right]$$"
      ],
      "text/plain": [
       "ff := ⎡     u₁      ⎤\n",
       "⎢             ⎥\n",
       "⎢     u₂      ⎥\n",
       "⎢             ⎥\n",
       "⎣u₁⋅x₂ - u₂⋅x₁⎦"
      ]
     },
     "metadata": {},
     "output_type": "display_data"
    },
    {
     "name": "stdout",
     "output_type": "stream",
     "text": [
      "---\n"
     ]
    }
   ],
   "source": [
    "ff = B*uu ##:"
   ]
  },
  {
   "cell_type": "markdown",
   "metadata": {},
   "source": [
    "### Systemdynamics in cylindrical coordinates\n",
    "\n",
    "\n",
    "\\begin{align}\n",
    "%\\label{eq_}\n",
    "r &= z_1 =  \\sqrt{x_1^2 + x_2^2} \\\\\n",
    "\\varphi &= z_2 = \\mathrm{arctan2}(x_2, x_1) \\\\\n",
    "z &= z_3 = x_3\n",
    "\\end{align}\n"
   ]
  },
  {
   "cell_type": "code",
   "execution_count": 9,
   "metadata": {},
   "outputs": [
    {
     "data": {
      "image/png": "[encoded data removed]",
      "text/latex": [
       "$$\\verb|ffz| := \\left[\\begin{matrix}\\frac{u_{1} x_{1}}{\\sqrt{x_{1}^{2} + x_{2}^{2}}} + \\frac{u_{2} x_{2}}{\\sqrt{x_{1}^{2} + x_{2}^{2}}}\\\\- \\frac{u_{1} x_{2}}{x_{1}^{2} + x_{2}^{2}} + \\frac{u_{2} x_{1}}{x_{1}^{2} + x_{2}^{2}}\\\\u_{1} x_{2} - u_{2} x_{1}\\end{matrix}\\right]$$"
      ],
      "text/plain": [
       "ffz := ⎡    u₁⋅x₁            u₂⋅x₂     ⎤\n",
       "⎢────────────── + ──────────────⎥\n",
       "⎢   ___________      ___________⎥\n",
       "⎢  ╱   2     2      ╱   2     2 ⎥\n",
       "⎢╲╱  x₁  + x₂     ╲╱  x₁  + x₂  ⎥\n",
       "⎢                               ⎥\n",
       "⎢        u₁⋅x₂       u₂⋅x₁      ⎥\n",
       "⎢    - ───────── + ─────────    ⎥\n",
       "⎢        2     2     2     2    ⎥\n",
       "⎢      x₁  + x₂    x₁  + x₂     ⎥\n",
       "⎢                               ⎥\n",
       "⎣         u₁⋅x₂ - u₂⋅x₁         ⎦"
      ]
     },
     "metadata": {},
     "output_type": "display_data"
    },
    {
     "name": "stdout",
     "output_type": "stream",
     "text": [
      "---\n"
     ]
    },
    {
     "data": {
      "image/png": "[encoded data removed]",
      "text/latex": [
       "$$\\verb|ffz| := \\left[\\begin{matrix}\\frac{u_{1} x_{1}}{z_{1}} + \\frac{u_{2} x_{2}}{z_{1}}\\\\v_{2}\\\\- v_{2} z_{1}^{2}\\end{matrix}\\right]$$"
      ],
      "text/plain": [
       "ffz := ⎡u₁⋅x₁   u₂⋅x₂⎤\n",
       "⎢───── + ─────⎥\n",
       "⎢  z₁      z₁ ⎥\n",
       "⎢             ⎥\n",
       "⎢     v₂      ⎥\n",
       "⎢             ⎥\n",
       "⎢         2   ⎥\n",
       "⎣   -v₂⋅z₁    ⎦"
      ]
     },
     "metadata": {},
     "output_type": "display_data"
    },
    {
     "name": "stdout",
     "output_type": "stream",
     "text": [
      "---\n"
     ]
    },
    {
     "data": {
      "image/png": "[encoded data removed]",
      "text/latex": [
       "$$\\verb|ffz| := \\left[\\begin{matrix}v_{1}\\\\v_{2}\\\\- v_{2} z_{1}^{2}\\end{matrix}\\right]$$"
      ],
      "text/plain": [
       "ffz := ⎡  v₁   ⎤\n",
       "⎢       ⎥\n",
       "⎢  v₂   ⎥\n",
       "⎢       ⎥\n",
       "⎢      2⎥\n",
       "⎣-v₂⋅z₁ ⎦"
      ]
     },
     "metadata": {},
     "output_type": "display_data"
    },
    {
     "name": "stdout",
     "output_type": "stream",
     "text": [
      "---\n"
     ]
    }
   ],
   "source": [
    "z1e = sp.sqrt(x1**2 + x2**2)\n",
    "z2e = sp.atan2(x2, x1)\n",
    "z3e = x3\n",
    "\n",
    "zz_expr = sp.Matrix([z1e, z2e, z3e])\n",
    "\n",
    "rplm1 = [(z1e, z1), (sp.expand(-ff[2]/z1**2), v2), (ff[2], -z1**2*v2)]\n",
    "\n",
    "ffz = zz_expr.jacobian(xx)*ff ##:\n",
    "ffz = ffz.subs(rplm1) ##:\n",
    "rplm2 = [(ffz[0], v1)]\n",
    "ffz = ffz.subs(rplm2) ##:\n"
   ]
  },
  {
   "cell_type": "code",
   "execution_count": 10,
   "metadata": {},
   "outputs": [
    {
     "data": {
      "image/png": "[encoded data removed]",
      "text/latex": [
       "$$\\verb|vve| := \\left[\\begin{matrix}\\frac{u_{1} x_{1}}{z_{1}} + \\frac{u_{2} x_{2}}{z_{1}}\\\\- \\frac{u_{1} x_{2}}{z_{1}^{2}} + \\frac{u_{2} x_{1}}{z_{1}^{2}}\\end{matrix}\\right]$$"
      ],
      "text/plain": [
       "vve := ⎡ u₁⋅x₁   u₂⋅x₂ ⎤\n",
       "⎢ ───── + ───── ⎥\n",
       "⎢   z₁      z₁  ⎥\n",
       "⎢               ⎥\n",
       "⎢  u₁⋅x₂   u₂⋅x₁⎥\n",
       "⎢- ───── + ─────⎥\n",
       "⎢     2       2 ⎥\n",
       "⎣   z₁      z₁  ⎦"
      ]
     },
     "metadata": {},
     "output_type": "display_data"
    },
    {
     "name": "stdout",
     "output_type": "stream",
     "text": [
      "---\n"
     ]
    }
   ],
   "source": [
    "vve = vv.subs(st.rev_tuple(rplm1+rplm2)) ##:\n"
   ]
  },
  {
   "cell_type": "code",
   "execution_count": 11,
   "metadata": {},
   "outputs": [
    {
     "data": {
      "image/png": "[encoded data removed]",
      "text/latex": [
       "$$- \\frac{x_{2}}{x_{1}^{2} + x_{2}^{2}}$$"
      ],
      "text/plain": [
       "   -x₂   \n",
       "─────────\n",
       "  2     2\n",
       "x₁  + x₂ "
      ]
     },
     "execution_count": 11,
     "metadata": {},
     "output_type": "execute_result"
    }
   ],
   "source": [
    "z2e.diff(x1)"
   ]
  },
  {
   "cell_type": "code",
   "execution_count": 12,
   "metadata": {},
   "outputs": [
    {
     "data": {
      "image/png": "[encoded data removed]",
      "text/latex": [
       "$$\\verb|st.lie_deriv(z1e, ff, xx) | := \\frac{u_{1} x_{1}}{\\sqrt{x_{1}^{2} + x_{2}^{2}}} + \\frac{u_{2} x_{2}}{\\sqrt{x_{1}^{2} + x_{2}^{2}}}$$"
      ],
      "text/plain": [
       "st.lie_deriv(z1e, ff, xx)  :=     u₁⋅x₁            u₂⋅x₂     \n",
       "────────────── + ──────────────\n",
       "   ___________      ___________\n",
       "  ╱   2     2      ╱   2     2 \n",
       "╲╱  x₁  + x₂     ╲╱  x₁  + x₂  "
      ]
     },
     "metadata": {},
     "output_type": "display_data"
    },
    {
     "name": "stdout",
     "output_type": "stream",
     "text": [
      "___\n"
     ]
    },
    {
     "data": {
      "image/png": "[encoded data removed]",
      "text/latex": [
       "$$\\verb|st.lie_deriv(z2e, ff, xx) | := - \\frac{u_{1} x_{2}}{x_{1}^{2} + x_{2}^{2}} + \\frac{u_{2} x_{1}}{x_{1}^{2} + x_{2}^{2}}$$"
      ],
      "text/plain": [
       "st.lie_deriv(z2e, ff, xx)  :=     u₁⋅x₂       u₂⋅x₁  \n",
       "- ───────── + ─────────\n",
       "    2     2     2     2\n",
       "  x₁  + x₂    x₁  + x₂ "
      ]
     },
     "metadata": {},
     "output_type": "display_data"
    },
    {
     "name": "stdout",
     "output_type": "stream",
     "text": [
      "___\n"
     ]
    }
   ],
   "source": [
    "st.lie_deriv(z1e, ff, xx) ##:\n",
    "st.lie_deriv(z2e, ff, xx) ##:"
   ]
  },
  {
   "cell_type": "markdown",
   "metadata": {},
   "source": [
    "backward transformation of the input"
   ]
  },
  {
   "cell_type": "code",
   "execution_count": 13,
   "metadata": {},
   "outputs": [
    {
     "data": {
      "image/png": "[encoded data removed]",
      "text/latex": [
       "$$\\verb|M.subs(rplm1) | := \\left[\\begin{matrix}\\frac{x_{1}}{z_{1}} & - x_{2}\\\\\\frac{x_{2}}{z_{1}} & x_{1}\\end{matrix}\\right]$$"
      ],
      "text/plain": [
       "M.subs(rplm1)  := ⎡x₁     ⎤\n",
       "⎢──  -x₂⎥\n",
       "⎢z₁     ⎥\n",
       "⎢       ⎥\n",
       "⎢x₂     ⎥\n",
       "⎢──  x₁ ⎥\n",
       "⎣z₁     ⎦"
      ]
     },
     "metadata": {},
     "output_type": "display_data"
    },
    {
     "name": "stdout",
     "output_type": "stream",
     "text": [
      "___\n"
     ]
    },
    {
     "data": {
      "image/png": "[encoded data removed]",
      "text/latex": [
       "$$\\verb|uue| := \\left[\\begin{matrix}\\frac{v_{1} x_{1}}{\\sqrt{x_{1}^{2} + x_{2}^{2}}} - v_{2} x_{2}\\\\\\frac{v_{1} x_{2}}{\\sqrt{x_{1}^{2} + x_{2}^{2}}} + v_{2} x_{1}\\end{matrix}\\right]$$"
      ],
      "text/plain": [
       "uue := ⎡    v₁⋅x₁             ⎤\n",
       "⎢────────────── - v₂⋅x₂⎥\n",
       "⎢   ___________        ⎥\n",
       "⎢  ╱   2     2         ⎥\n",
       "⎢╲╱  x₁  + x₂          ⎥\n",
       "⎢                      ⎥\n",
       "⎢    v₁⋅x₂             ⎥\n",
       "⎢────────────── + v₂⋅x₁⎥\n",
       "⎢   ___________        ⎥\n",
       "⎢  ╱   2     2         ⎥\n",
       "⎣╲╱  x₁  + x₂          ⎦"
      ]
     },
     "metadata": {},
     "output_type": "display_data"
    },
    {
     "name": "stdout",
     "output_type": "stream",
     "text": [
      "---\n"
     ]
    }
   ],
   "source": [
    "M = vve.jacobian(uu).inverse_ADJ()\n",
    "M.simplify()\n",
    "M.subs(rplm1) ##:\n",
    "\n",
    "# uue = M.subs(rplm1) * vv ##:\n",
    "\n",
    "uue = M.subs(st.rev_tuple(rplm1[:1])) * vv ##:"
   ]
  },
  {
   "cell_type": "code",
   "execution_count": 14,
   "metadata": {},
   "outputs": [
    {
     "data": {
      "image/png": "[encoded data removed]",
      "text/latex": [
       "$$\\left[\\begin{matrix}v_{1}\\\\v_{2}\\end{matrix}\\right]$$"
      ],
      "text/plain": [
       "⎡v₁⎤\n",
       "⎢  ⎥\n",
       "⎣v₂⎦"
      ]
     },
     "execution_count": 14,
     "metadata": {},
     "output_type": "execute_result"
    }
   ],
   "source": [
    "# check\n",
    "vve.subz(uu, uue).smplf.subs(st.rev_tuple(rplm1[:1]))"
   ]
  },
  {
   "cell_type": "code",
   "execution_count": 15,
   "metadata": {},
   "outputs": [
    {
     "data": {
      "image/png": "[encoded data removed]",
      "text/latex": [
       "$$\\left[\\begin{matrix}v_{1}\\\\v_{2}\\\\- v_{2} z_{1}^{2}\\end{matrix}\\right]$$"
      ],
      "text/plain": [
       "⎡  v₁   ⎤\n",
       "⎢       ⎥\n",
       "⎢  v₂   ⎥\n",
       "⎢       ⎥\n",
       "⎢      2⎥\n",
       "⎣-v₂⋅z₁ ⎦"
      ]
     },
     "execution_count": 15,
     "metadata": {},
     "output_type": "execute_result"
    }
   ],
   "source": [
    "ffz"
   ]
  },
  {
   "cell_type": "markdown",
   "metadata": {},
   "source": [
    "### Construction of the shortest possible curve (of a given type) from the z3-axis to the origin\n",
    "\n",
    "Three stages:\n",
    "1. increase $z_1$ → $r_1$\n",
    "2. with $v_2=$const perform a helical motion upward/downward (change $z_2$ and $z_3$, until $z_3=0$)\n",
    "3. decrease $z_1$\n",
    "\n",
    "\n",
    "\\begin{align}\n",
    "%\\label{eq_}\n",
    "L &= r_1 + \\int_0^T \\sqrt{\\dot x_1^2 +  \\dot x_2^2 + \\dot x_3^2 }\\, dt + r_1\\\\\n",
    "&= r_1 + \\int_0^T \\sqrt{(r_1 \\dot z_2)^2 + \\dot z_3^2 }\\, dt + r_1\\\\\n",
    "&= 2 r_1 + \\int_0^T \\sqrt{  (r_1 v_2)^2 + r_1^4 v_2^2}\\, dt \\\\\n",
    "&= 2 r_1 + (r_1 |v_2|)\\sqrt{( 1+ r_1^2)} \\int_0^T \\, dt \\\\\n",
    "&= 2 r_1 + (r_1 |v_2|)\\sqrt{( 1+ r_1^2)}T \\\\\n",
    "\\end{align}\n",
    "\n",
    "\n",
    "From the system dynamics we have:\n",
    "\n",
    "$$\n",
    "\\Delta z_3 = - T r_1^2 v_2,\n",
    "$$\n",
    "where we require $T \\geq 0$ and thus the input $v_2$ must be chosen such that $\\mathrm{sign}(v_2) = \\mathrm{sign}(\\Delta z_3)$. As a consequence, we get\n",
    "\n",
    "$$\n",
    "\\quad T = - \\frac{\\Delta  z_3 }{r_1^2 v_2} = \\frac{|\\Delta  z_3 |}{r_1^2 |v_2|}\n",
    "$$\n",
    "\n",
    "<br>\n",
    "\n",
    "$\n",
    "\\Rightarrow L= 2 r_1 + (r_1 |v_2|)\\sqrt{( 1+ r_1^2)} \\cdot \\frac{|\\Delta  z_3| }{r_1^2 |v_2|}\n",
    "$"
   ]
  },
  {
   "cell_type": "code",
   "execution_count": 16,
   "metadata": {},
   "outputs": [
    {
     "data": {
      "image/png": "[encoded data removed]",
      "text/latex": [
       "$$r_{1}$$"
      ],
      "text/plain": [
       "r₁"
      ]
     },
     "metadata": {},
     "output_type": "display_data"
    },
    {
     "data": {
      "image/png": "[encoded data removed]",
      "text/latex": [
       "$$\\Delta{}z_3$$"
      ],
      "text/plain": [
       "\\Delta{}z₃"
      ]
     },
     "metadata": {},
     "output_type": "display_data"
    },
    {
     "name": "stdout",
     "output_type": "stream",
     "text": [
      "---\n"
     ]
    }
   ],
   "source": [
    "\n",
    "r1, dz3 = sp.symbols('r1, \\Delta{}z_3', positive=True) ##"
   ]
  },
  {
   "cell_type": "markdown",
   "metadata": {},
   "source": [
    "Formula for the length of the curve in dependence of $\\Delta z_3$ and $r_1$"
   ]
  },
  {
   "cell_type": "code",
   "execution_count": 17,
   "metadata": {},
   "outputs": [
    {
     "data": {
      "image/png": "[encoded data removed]",
      "text/latex": [
       "$$\\verb|Le| := \\frac{\\Delta{}z_3}{r_{1}} \\sqrt{r_{1}^{2} + 1} + 2 r_{1}$$"
      ],
      "text/plain": [
       "Le :=               _________       \n",
       "             ╱   2            \n",
       "\\Delta{}z₃⋅╲╱  r₁  + 1        \n",
       "─────────────────────── + 2⋅r₁\n",
       "           r₁                 "
      ]
     },
     "metadata": {},
     "output_type": "display_data"
    },
    {
     "name": "stdout",
     "output_type": "stream",
     "text": [
      "---\n"
     ]
    }
   ],
   "source": [
    "Le = sp.expand(2*r1+(r1*v2)*sp.sqrt(1+r1**2)*dz3/r1**2/v2) ##:"
   ]
  },
  {
   "cell_type": "code",
   "execution_count": 18,
   "metadata": {},
   "outputs": [
    {
     "data": {
      "image/png": "[encoded data removed]",
      "text/plain": [
       "<matplotlib.figure.Figure at 0x7f36b2132668>"
      ]
     },
     "metadata": {},
     "output_type": "display_data"
    },
    {
     "data": {
      "text/plain": [
       "<sympy.plotting.plot.Plot at 0x7f36b2116f60>"
      ]
     },
     "execution_count": 18,
     "metadata": {},
     "output_type": "execute_result"
    }
   ],
   "source": [
    "sp.plot(Le.subs(dz3, 1), (r1, 0, 2), ylim=(-5, 10), xlabel=\"$r_1$\", ylabel=\"$L(r_1)$\", title= r\"$\\left. L(r_1)\\right|_{\\Delta{}z_3 = 1}$\")"
   ]
  },
  {
   "cell_type": "markdown",
   "metadata": {},
   "source": [
    "To determine the minimum of this length we calculate the derivative..."
   ]
  },
  {
   "cell_type": "code",
   "execution_count": 19,
   "metadata": {},
   "outputs": [
    {
     "data": {
      "image/png": "[encoded data removed]",
      "text/latex": [
       "$$\\verb|Led| := - \\frac{\\Delta{}z_3}{r_{1}^{2} \\sqrt{r_{1}^{2} + 1}} + 2$$"
      ],
      "text/plain": [
       "Led :=      \\Delta{}z₃       \n",
       "- ──────────────── + 2\n",
       "         _________    \n",
       "    2   ╱   2         \n",
       "  r₁ ⋅╲╱  r₁  + 1     "
      ]
     },
     "metadata": {},
     "output_type": "display_data"
    },
    {
     "name": "stdout",
     "output_type": "stream",
     "text": [
      "---\n"
     ]
    }
   ],
   "source": [
    "Led = Le.diff(r1).smplf ##:"
   ]
  },
  {
   "cell_type": "markdown",
   "metadata": {},
   "source": [
    "... and set it to $0$. This is simplified by the substitution $x:= r_1^2$."
   ]
  },
  {
   "cell_type": "code",
   "execution_count": 20,
   "metadata": {},
   "outputs": [
    {
     "data": {
      "image/png": "[encoded data removed]",
      "text/latex": [
       "$$\\verb|Ledx| := - \\frac{\\Delta{}z_3}{x \\sqrt{x + 1}} + 2$$"
      ],
      "text/plain": [
       "Ledx :=    \\Delta{}z₃    \n",
       "- ─────────── + 2\n",
       "      _______    \n",
       "  x⋅╲╱ x + 1     "
      ]
     },
     "metadata": {},
     "output_type": "display_data"
    },
    {
     "name": "stdout",
     "output_type": "stream",
     "text": [
      "---\n"
     ]
    }
   ],
   "source": [
    "# manual solution (biquadratic equation)\n",
    "x = sp.Symbol(\"x\")\n",
    "Ledx = Led.subs(r1**2, x) ##:"
   ]
  },
  {
   "cell_type": "code",
   "execution_count": 21,
   "metadata": {},
   "outputs": [
    {
     "data": {
      "image/png": "[encoded data removed]",
      "text/latex": [
       "$$- \\frac{1}{3} \\left(- \\frac{1}{2} - \\frac{\\sqrt{3} i}{2}\\right) \\sqrt[3]{- \\frac{27 \\Delta{}z_3^{2}}{8} + \\frac{1}{2} \\sqrt{\\left(- \\frac{27 \\Delta{}z_3^{2}}{4} + 2\\right)^{2} - 4} + 1} - \\frac{1}{3} - \\frac{1}{3 \\left(- \\frac{1}{2} - \\frac{\\sqrt{3} i}{2}\\right) \\sqrt[3]{- \\frac{27 \\Delta{}z_3^{2}}{8} + \\frac{1}{2} \\sqrt{\\left(- \\frac{27 \\Delta{}z_3^{2}}{4} + 2\\right)^{2} - 4} + 1}}$$"
      ],
      "text/plain": [
       "                        ______________________________________________________\n",
       "                       ╱                          ____________________________\n",
       "                      ╱                          ╱                       2    \n",
       "                     ╱                          ╱  ⎛               2    ⎞     \n",
       "                    ╱                          ╱   ⎜  27⋅\\Delta{}z₃     ⎟     \n",
       "                   ╱                    2     ╱    ⎜- ────────────── + 2⎟  - 4\n",
       "  ⎛  1   √3⋅ⅈ⎞    ╱        27⋅\\Delta{}z₃    ╲╱     ⎝        4           ⎠     \n",
       "  ⎜- ─ - ────⎟⋅3 ╱       - ────────────── + ──────────────────────────────────\n",
       "  ⎝  2    2  ⎠ ╲╱                8                           2                \n",
       "- ────────────────────────────────────────────────────────────────────────────\n",
       "                                          3                                   \n",
       "                                                                              \n",
       "                                                                              \n",
       "                                                                              \n",
       "                                                                              \n",
       "                                                                              \n",
       "                                                                              \n",
       "                                                                              \n",
       "                                                                              \n",
       "\n",
       "______                                                                        \n",
       "_                                                                             \n",
       "                                                                              \n",
       "                                                                              \n",
       "                                                                              \n",
       "                                                                              \n",
       "                                                                              \n",
       "─ + 1                                                                         \n",
       "         1                                            1                       \n",
       "────── - ─ - ─────────────────────────────────────────────────────────────────\n",
       "         3                           _________________________________________\n",
       "                                    ╱                          _______________\n",
       "                                   ╱                          ╱               \n",
       "                                  ╱                          ╱  ⎛             \n",
       "                                 ╱                          ╱   ⎜  27⋅\\Delta{}\n",
       "                                ╱                    2     ╱    ⎜- ───────────\n",
       "               ⎛  1   √3⋅ⅈ⎞    ╱        27⋅\\Delta{}z₃    ╲╱     ⎝        4    \n",
       "             3⋅⎜- ─ - ────⎟⋅3 ╱       - ────────────── + ─────────────────────\n",
       "               ⎝  2    2  ⎠ ╲╱                8                           2   \n",
       "\n",
       "                   \n",
       "                   \n",
       "                   \n",
       "                   \n",
       "                   \n",
       "                   \n",
       "                   \n",
       "                   \n",
       "                   \n",
       "───────────────────\n",
       "___________________\n",
       "______________     \n",
       "        2          \n",
       "  2    ⎞           \n",
       "z₃     ⎟           \n",
       "─── + 2⎟  - 4      \n",
       "       ⎠           \n",
       "────────────── + 1 \n",
       "                   "
      ]
     },
     "metadata": {},
     "output_type": "display_data"
    },
    {
     "name": "stdout",
     "output_type": "stream",
     "text": [
      "--------------------\n"
     ]
    },
    {
     "data": {
      "image/png": "[encoded data removed]",
      "text/latex": [
       "$$- \\frac{1}{3} \\left(- \\frac{1}{2} + \\frac{\\sqrt{3} i}{2}\\right) \\sqrt[3]{- \\frac{27 \\Delta{}z_3^{2}}{8} + \\frac{1}{2} \\sqrt{\\left(- \\frac{27 \\Delta{}z_3^{2}}{4} + 2\\right)^{2} - 4} + 1} - \\frac{1}{3} - \\frac{1}{3 \\left(- \\frac{1}{2} + \\frac{\\sqrt{3} i}{2}\\right) \\sqrt[3]{- \\frac{27 \\Delta{}z_3^{2}}{8} + \\frac{1}{2} \\sqrt{\\left(- \\frac{27 \\Delta{}z_3^{2}}{4} + 2\\right)^{2} - 4} + 1}}$$"
      ],
      "text/plain": [
       "                        ______________________________________________________\n",
       "                       ╱                          ____________________________\n",
       "                      ╱                          ╱                       2    \n",
       "                     ╱                          ╱  ⎛               2    ⎞     \n",
       "                    ╱                          ╱   ⎜  27⋅\\Delta{}z₃     ⎟     \n",
       "                   ╱                    2     ╱    ⎜- ────────────── + 2⎟  - 4\n",
       "  ⎛  1   √3⋅ⅈ⎞    ╱        27⋅\\Delta{}z₃    ╲╱     ⎝        4           ⎠     \n",
       "  ⎜- ─ + ────⎟⋅3 ╱       - ────────────── + ──────────────────────────────────\n",
       "  ⎝  2    2  ⎠ ╲╱                8                           2                \n",
       "- ────────────────────────────────────────────────────────────────────────────\n",
       "                                          3                                   \n",
       "                                                                              \n",
       "                                                                              \n",
       "                                                                              \n",
       "                                                                              \n",
       "                                                                              \n",
       "                                                                              \n",
       "                                                                              \n",
       "                                                                              \n",
       "\n",
       "______                                                                        \n",
       "_                                                                             \n",
       "                                                                              \n",
       "                                                                              \n",
       "                                                                              \n",
       "                                                                              \n",
       "                                                                              \n",
       "─ + 1                                                                         \n",
       "         1                                            1                       \n",
       "────── - ─ - ─────────────────────────────────────────────────────────────────\n",
       "         3                           _________________________________________\n",
       "                                    ╱                          _______________\n",
       "                                   ╱                          ╱               \n",
       "                                  ╱                          ╱  ⎛             \n",
       "                                 ╱                          ╱   ⎜  27⋅\\Delta{}\n",
       "                                ╱                    2     ╱    ⎜- ───────────\n",
       "               ⎛  1   √3⋅ⅈ⎞    ╱        27⋅\\Delta{}z₃    ╲╱     ⎝        4    \n",
       "             3⋅⎜- ─ + ────⎟⋅3 ╱       - ────────────── + ─────────────────────\n",
       "               ⎝  2    2  ⎠ ╲╱                8                           2   \n",
       "\n",
       "                   \n",
       "                   \n",
       "                   \n",
       "                   \n",
       "                   \n",
       "                   \n",
       "                   \n",
       "                   \n",
       "                   \n",
       "───────────────────\n",
       "___________________\n",
       "______________     \n",
       "        2          \n",
       "  2    ⎞           \n",
       "z₃     ⎟           \n",
       "─── + 2⎟  - 4      \n",
       "       ⎠           \n",
       "────────────── + 1 \n",
       "                   "
      ]
     },
     "metadata": {},
     "output_type": "display_data"
    },
    {
     "name": "stdout",
     "output_type": "stream",
     "text": [
      "--------------------\n"
     ]
    },
    {
     "data": {
      "image/png": "[encoded data removed]",
      "text/latex": [
       "$$- \\frac{1}{3} \\sqrt[3]{- \\frac{27 \\Delta{}z_3^{2}}{8} + \\frac{1}{2} \\sqrt{\\left(- \\frac{27 \\Delta{}z_3^{2}}{4} + 2\\right)^{2} - 4} + 1} - \\frac{1}{3} - \\frac{1}{3 \\sqrt[3]{- \\frac{27 \\Delta{}z_3^{2}}{8} + \\frac{1}{2} \\sqrt{\\left(- \\frac{27 \\Delta{}z_3^{2}}{4} + 2\\right)^{2} - 4} + 1}}$$"
      ],
      "text/plain": [
       "           ____________________________________________________________       \n",
       "          ╱                          _____________________________            \n",
       "         ╱                          ╱                       2                 \n",
       "        ╱                          ╱  ⎛               2    ⎞                  \n",
       "       ╱                          ╱   ⎜  27⋅\\Delta{}z₃     ⎟                  \n",
       "      ╱                    2     ╱    ⎜- ────────────── + 2⎟  - 4             \n",
       "     ╱        27⋅\\Delta{}z₃    ╲╱     ⎝        4           ⎠                  \n",
       "  3 ╱       - ────────────── + ─────────────────────────────────── + 1        \n",
       "  ╲╱                8                           2                         1   \n",
       "- ───────────────────────────────────────────────────────────────────── - ─ - \n",
       "                                    3                                     3   \n",
       "                                                                              \n",
       "                                                                              \n",
       "                                                                              \n",
       "                                                                              \n",
       "                                                                              \n",
       "                                                                              \n",
       "                                                                              \n",
       "                                                                              \n",
       "\n",
       "                                                                       \n",
       "                                                                       \n",
       "                                                                       \n",
       "                                                                       \n",
       "                                                                       \n",
       "                                                                       \n",
       "                                                                       \n",
       "                                                                       \n",
       "                                   1                                   \n",
       "───────────────────────────────────────────────────────────────────────\n",
       "           ____________________________________________________________\n",
       "          ╱                          _____________________________     \n",
       "         ╱                          ╱                       2          \n",
       "        ╱                          ╱  ⎛               2    ⎞           \n",
       "       ╱                          ╱   ⎜  27⋅\\Delta{}z₃     ⎟           \n",
       "      ╱                    2     ╱    ⎜- ────────────── + 2⎟  - 4      \n",
       "     ╱        27⋅\\Delta{}z₃    ╲╱     ⎝        4           ⎠           \n",
       "3⋅3 ╱       - ────────────── + ─────────────────────────────────── + 1 \n",
       "  ╲╱                8                           2                      "
      ]
     },
     "metadata": {},
     "output_type": "display_data"
    }
   ],
   "source": [
    "sol1, sol2, sol3 = sp.solve(Ledx, x)\n",
    "\n",
    "display(sol1)\n",
    "print(\"-\"*20)\n",
    "display(sol2)\n",
    "print(\"-\"*20)\n",
    "display(sol3)\n"
   ]
  },
  {
   "cell_type": "markdown",
   "metadata": {},
   "source": [
    "This means: three solutions for $x = r_1^2$ and thus six solutions for $r_1$\n",
    "\n",
    "Different method to calculate (use $r_1$ directly):"
   ]
  },
  {
   "cell_type": "code",
   "execution_count": 22,
   "metadata": {},
   "outputs": [],
   "source": [
    "sol = sp.solve(Le.diff(r1), r1)"
   ]
  },
  {
   "cell_type": "code",
   "execution_count": 23,
   "metadata": {},
   "outputs": [
    {
     "data": {
      "image/png": "[encoded data removed]",
      "text/latex": [
       "$$- \\frac{\\sqrt{6}}{6} \\sqrt{- \\sqrt[3]{- 27 \\Delta{}z_3^{2} + 3 \\sqrt{3} \\Delta{}z_3 \\sqrt{27 \\Delta{}z_3^{2} - 16} + 8} - 2 - \\frac{4}{\\sqrt[3]{- 27 \\Delta{}z_3^{2} + 3 \\sqrt{3} \\Delta{}z_3 \\sqrt{27 \\Delta{}z_3^{2} - 16} + 8}}}$$"
      ],
      "text/plain": [
       "             _________________________________________________________________\n",
       "            ╱       __________________________________________________________\n",
       "           ╱       ╱                                       ___________________\n",
       "          ╱     3 ╱                 2                     ╱              2    \n",
       "-√6⋅     ╱    - ╲╱   - 27⋅\\Delta{}z₃  + 3⋅√3⋅\\Delta{}z₃⋅╲╱  27⋅\\Delta{}z₃  - 1\n",
       "        ╱                                                                     \n",
       "       ╱                                                                      \n",
       "      ╱                                                                       \n",
       "    ╲╱                                                                        \n",
       "──────────────────────────────────────────────────────────────────────────────\n",
       "                                                                              \n",
       "\n",
       "______________________________________________________________________________\n",
       "_______                                                                       \n",
       "__                                                                            \n",
       "                                                4                             \n",
       "6  + 8  - 2 - ────────────────────────────────────────────────────────────────\n",
       "                  ____________________________________________________________\n",
       "                 ╱                                       _____________________\n",
       "              3 ╱                 2                     ╱              2      \n",
       "              ╲╱   - 27⋅\\Delta{}z₃  + 3⋅√3⋅\\Delta{}z₃⋅╲╱  27⋅\\Delta{}z₃  - 16 \n",
       "──────────────────────────────────────────────────────────────────────────────\n",
       "   6                                                                          \n",
       "\n",
       "______ \n",
       "       \n",
       "       \n",
       "       \n",
       "─────  \n",
       "_____  \n",
       "       \n",
       "       \n",
       " + 8   \n",
       "───────\n",
       "       "
      ]
     },
     "metadata": {},
     "output_type": "display_data"
    },
    {
     "name": "stdout",
     "output_type": "stream",
     "text": [
      "--------------------\n"
     ]
    },
    {
     "data": {
      "image/png": "[encoded data removed]",
      "text/latex": [
       "$$\\frac{\\sqrt{6}}{6} \\sqrt{- \\sqrt[3]{- 27 \\Delta{}z_3^{2} + 3 \\sqrt{3} \\Delta{}z_3 \\sqrt{27 \\Delta{}z_3^{2} - 16} + 8} - 2 - \\frac{4}{\\sqrt[3]{- 27 \\Delta{}z_3^{2} + 3 \\sqrt{3} \\Delta{}z_3 \\sqrt{27 \\Delta{}z_3^{2} - 16} + 8}}}$$"
      ],
      "text/plain": [
       "            __________________________________________________________________\n",
       "           ╱       ___________________________________________________________\n",
       "          ╱       ╱                                       ____________________\n",
       "         ╱     3 ╱                 2                     ╱              2     \n",
       "√6⋅     ╱    - ╲╱   - 27⋅\\Delta{}z₃  + 3⋅√3⋅\\Delta{}z₃⋅╲╱  27⋅\\Delta{}z₃  - 16\n",
       "       ╱                                                                      \n",
       "      ╱                                                                       \n",
       "     ╱                                                                        \n",
       "   ╲╱                                                                         \n",
       "──────────────────────────────────────────────────────────────────────────────\n",
       "                                                                              \n",
       "\n",
       "______________________________________________________________________________\n",
       "______                                                                        \n",
       "_                                                                             \n",
       "                                               4                              \n",
       "  + 8  - 2 - ─────────────────────────────────────────────────────────────────\n",
       "                 _____________________________________________________________\n",
       "                ╱                                       _____________________ \n",
       "             3 ╱                 2                     ╱              2       \n",
       "             ╲╱   - 27⋅\\Delta{}z₃  + 3⋅√3⋅\\Delta{}z₃⋅╲╱  27⋅\\Delta{}z₃  - 16  \n",
       "──────────────────────────────────────────────────────────────────────────────\n",
       "  6                                                                           \n",
       "\n",
       "_____\n",
       "     \n",
       "     \n",
       "     \n",
       "──── \n",
       "____ \n",
       "     \n",
       "     \n",
       "+ 8  \n",
       "─────\n",
       "     "
      ]
     },
     "metadata": {},
     "output_type": "display_data"
    },
    {
     "name": "stdout",
     "output_type": "stream",
     "text": [
      "--------------------\n"
     ]
    },
    {
     "data": {
      "image/png": "[encoded data removed]",
      "text/latex": [
       "$$- \\sqrt{\\frac{\\left(- 27 \\Delta{}z_3^{2} + 3 \\sqrt{3} \\Delta{}z_3 \\sqrt{27 \\Delta{}z_3^{2} - 16} + 8\\right)^{\\frac{2}{3}}}{- 6 \\sqrt[3]{- 27 \\Delta{}z_3^{2} + 3 \\sqrt{3} \\Delta{}z_3 \\sqrt{27 \\Delta{}z_3^{2} - 16} + 8} + 6 \\sqrt{3} i \\sqrt[3]{- 27 \\Delta{}z_3^{2} + 3 \\sqrt{3} \\Delta{}z_3 \\sqrt{27 \\Delta{}z_3^{2} - 16} + 8}} + \\frac{\\sqrt{3} i \\left(- 27 \\Delta{}z_3^{2} + 3 \\sqrt{3} \\Delta{}z_3 \\sqrt{27 \\Delta{}z_3^{2} - 16} + 8\\right)^{\\frac{2}{3}}}{- 6 \\sqrt[3]{- 27 \\Delta{}z_3^{2} + 3 \\sqrt{3} \\Delta{}z_3 \\sqrt{27 \\Delta{}z_3^{2} - 16} + 8} + 6 \\sqrt{3} i \\sqrt[3]{- 27 \\Delta{}z_3^{2} + 3 \\sqrt{3} \\Delta{}z_3 \\sqrt{27 \\Delta{}z_3^{2} - 16} + 8}} + \\frac{2 \\sqrt[3]{- 27 \\Delta{}z_3^{2} + 3 \\sqrt{3} \\Delta{}z_3 \\sqrt{27 \\Delta{}z_3^{2} - 16} + 8}}{- 6 \\sqrt[3]{- 27 \\Delta{}z_3^{2} + 3 \\sqrt{3} \\Delta{}z_3 \\sqrt{27 \\Delta{}z_3^{2} - 16} + 8} + 6 \\sqrt{3} i \\sqrt[3]{- 27 \\Delta{}z_3^{2} + 3 \\sqrt{3} \\Delta{}z_3 \\sqrt{27 \\Delta{}z_3^{2} - 16} + 8}} - \\frac{2 \\sqrt{3} i \\sqrt[3]{- 27 \\Delta{}z_3^{2} + 3 \\sqrt{3} \\Delta{}z_3 \\sqrt{27 \\Delta{}z_3^{2} - 16} + 8}}{- 6 \\sqrt[3]{- 27 \\Delta{}z_3^{2} + 3 \\sqrt{3} \\Delta{}z_3 \\sqrt{27 \\Delta{}z_3^{2} - 16} + 8} + 6 \\sqrt{3} i \\sqrt[3]{- 27 \\Delta{}z_3^{2} + 3 \\sqrt{3} \\Delta{}z_3 \\sqrt{27 \\Delta{}z_3^{2} - 16} + 8}} - \\frac{8}{- 6 \\sqrt[3]{- 27 \\Delta{}z_3^{2} + 3 \\sqrt{3} \\Delta{}z_3 \\sqrt{27 \\Delta{}z_3^{2} - 16} + 8} + 6 \\sqrt{3} i \\sqrt[3]{- 27 \\Delta{}z_3^{2} + 3 \\sqrt{3} \\Delta{}z_3 \\sqrt{27 \\Delta{}z_3^{2} - 16} + 8}}}$$"
      ],
      "text/plain": [
       "           ___________________________________________________________________\n",
       "          ╱                                                                   \n",
       "         ╱                                            ⎛                       \n",
       "        ╱                                             ⎜               2       \n",
       "       ╱                                              ⎝- 27⋅\\Delta{}z₃  + 3⋅√3\n",
       "-     ╱     ──────────────────────────────────────────────────────────────────\n",
       "     ╱              __________________________________________________________\n",
       "    ╱              ╱                                       ___________________\n",
       "   ╱            3 ╱                 2                     ╱              2    \n",
       " ╲╱         - 6⋅╲╱   - 27⋅\\Delta{}z₃  + 3⋅√3⋅\\Delta{}z₃⋅╲╱  27⋅\\Delta{}z₃  - 1\n",
       "\n",
       "______________________________________________________________________________\n",
       "                                         2/3                                  \n",
       "               _____________________    ⎞                                     \n",
       "              ╱              2          ⎟                                     \n",
       "⋅\\Delta{}z₃⋅╲╱  27⋅\\Delta{}z₃  - 16  + 8⎠                                     \n",
       "──────────────────────────────────────────────────────────────────────────────\n",
       "_______              _________________________________________________________\n",
       "__                  ╱                                       __________________\n",
       "                 3 ╱                 2                     ╱              2   \n",
       "6  + 8  + 6⋅√3⋅ⅈ⋅╲╱   - 27⋅\\Delta{}z₃  + 3⋅√3⋅\\Delta{}z₃⋅╲╱  27⋅\\Delta{}z₃  - \n",
       "\n",
       "______________________________________________________________________________\n",
       "                                                                              \n",
       "                                                       ⎛                      \n",
       "                                                       ⎜               2      \n",
       "                                                  √3⋅ⅈ⋅⎝- 27⋅\\Delta{}z₃  + 3⋅√\n",
       "──────── + ───────────────────────────────────────────────────────────────────\n",
       "________           ___________________________________________________________\n",
       "___               ╱                                       ____________________\n",
       "               3 ╱                 2                     ╱              2     \n",
       "16  + 8    - 6⋅╲╱   - 27⋅\\Delta{}z₃  + 3⋅√3⋅\\Delta{}z₃⋅╲╱  27⋅\\Delta{}z₃  - 16\n",
       "\n",
       "______________________________________________________________________________\n",
       "                                          2/3                                 \n",
       "                _____________________    ⎞                                    \n",
       "               ╱              2          ⎟                                    \n",
       "3⋅\\Delta{}z₃⋅╲╱  27⋅\\Delta{}z₃  - 16  + 8⎠                                    \n",
       "──────────────────────────────────────────────────────────────────────────────\n",
       "______              __________________________________________________________\n",
       "_                  ╱                                       ___________________\n",
       "                3 ╱                 2                     ╱              2    \n",
       "  + 8  + 6⋅√3⋅ⅈ⋅╲╱   - 27⋅\\Delta{}z₃  + 3⋅√3⋅\\Delta{}z₃⋅╲╱  27⋅\\Delta{}z₃  - 1\n",
       "\n",
       "______________________________________________________________________________\n",
       "                                                        ______________________\n",
       "                                                       ╱                      \n",
       "                                                    3 ╱                 2     \n",
       "                                                  2⋅╲╱   - 27⋅\\Delta{}z₃  + 3⋅\n",
       "─────── + ────────────────────────────────────────────────────────────────────\n",
       "_______           ____________________________________________________________\n",
       "__               ╱                                       _____________________\n",
       "              3 ╱                 2                     ╱              2      \n",
       "6  + 8    - 6⋅╲╱   - 27⋅\\Delta{}z₃  + 3⋅√3⋅\\Delta{}z₃⋅╲╱  27⋅\\Delta{}z₃  - 16 \n",
       "\n",
       "______________________________________________________________________________\n",
       "___________________________________________                                   \n",
       "                 _____________________                                        \n",
       "                ╱              2                                              \n",
       "√3⋅\\Delta{}z₃⋅╲╱  27⋅\\Delta{}z₃  - 16  + 8                                    \n",
       "──────────────────────────────────────────────────────────────────────────────\n",
       "_____              ___________________________________________________________\n",
       "                  ╱                                       ____________________\n",
       "               3 ╱                 2                     ╱              2     \n",
       " + 8  + 6⋅√3⋅ⅈ⋅╲╱   - 27⋅\\Delta{}z₃  + 3⋅√3⋅\\Delta{}z₃⋅╲╱  27⋅\\Delta{}z₃  - 16\n",
       "\n",
       "______________________________________________________________________________\n",
       "                                                          ____________________\n",
       "                                                         ╱                    \n",
       "                                                      3 ╱                 2   \n",
       "                                               2⋅√3⋅ⅈ⋅╲╱   - 27⋅\\Delta{}z₃  + \n",
       "────── - ─────────────────────────────────────────────────────────────────────\n",
       "______           _____________________________________________________________\n",
       "_               ╱                                       _____________________ \n",
       "             3 ╱                 2                     ╱              2       \n",
       "  + 8    - 6⋅╲╱   - 27⋅\\Delta{}z₃  + 3⋅√3⋅\\Delta{}z₃⋅╲╱  27⋅\\Delta{}z₃  - 16  \n",
       "\n",
       "______________________________________________________________________________\n",
       "_____________________________________________                                 \n",
       "                   _____________________                                      \n",
       "                  ╱              2                                            \n",
       "3⋅√3⋅\\Delta{}z₃⋅╲╱  27⋅\\Delta{}z₃  - 16  + 8                                  \n",
       "──────────────────────────────────────────────────────────────────────────────\n",
       "____              ____________________________________________________________\n",
       "                 ╱                                       _____________________\n",
       "              3 ╱                 2                     ╱              2      \n",
       "+ 8  + 6⋅√3⋅ⅈ⋅╲╱   - 27⋅\\Delta{}z₃  + 3⋅√3⋅\\Delta{}z₃⋅╲╱  27⋅\\Delta{}z₃  - 16 \n",
       "\n",
       "______________________________________________________________________________\n",
       "                                                                              \n",
       "                                                                              \n",
       "                                                                              \n",
       "                                                                              \n",
       "───── - ──────────────────────────────────────────────────────────────────────\n",
       "_____           ______________________________________________________________\n",
       "               ╱                                       _____________________  \n",
       "            3 ╱                 2                     ╱              2        \n",
       " + 8    - 6⋅╲╱   - 27⋅\\Delta{}z₃  + 3⋅√3⋅\\Delta{}z₃⋅╲╱  27⋅\\Delta{}z₃  - 16  +\n",
       "\n",
       "______________________________________________________________________________\n",
       "                                                                              \n",
       "                                                                              \n",
       "                                                                              \n",
       "     8                                                                        \n",
       "──────────────────────────────────────────────────────────────────────────────\n",
       "___              _____________________________________________________________\n",
       "                ╱                                       _____________________ \n",
       "             3 ╱                 2                     ╱              2       \n",
       " 8  + 6⋅√3⋅ⅈ⋅╲╱   - 27⋅\\Delta{}z₃  + 3⋅√3⋅\\Delta{}z₃⋅╲╱  27⋅\\Delta{}z₃  - 16  \n",
       "\n",
       "_____\n",
       "     \n",
       "     \n",
       "     \n",
       "     \n",
       "──── \n",
       "____ \n",
       "     \n",
       "     \n",
       "+ 8  "
      ]
     },
     "metadata": {},
     "output_type": "display_data"
    }
   ],
   "source": [
    "display(sol[0])\n",
    "print(\"-\"*20)\n",
    "display(sol[1])\n",
    "print(\"-\"*20)\n",
    "display(sol[2])"
   ]
  },
  {
   "cell_type": "markdown",
   "metadata": {},
   "source": [
    "Evaluate the symbolical solution for $\\Delta z_3 =1$"
   ]
  },
  {
   "cell_type": "code",
   "execution_count": 24,
   "metadata": {},
   "outputs": [
    {
     "data": {
      "image/png": "[encoded data removed]",
      "text/latex": [
       "$$\\verb|len(sol) | := 6$$"
      ],
      "text/plain": [
       "len(sol)  := 6"
      ]
     },
     "metadata": {},
     "output_type": "display_data"
    },
    {
     "name": "stdout",
     "output_type": "stream",
     "text": [
      "___\n",
      "1 -0.176100564369479 - 0.860716618623568*I\n",
      "2 0.176100564369479 + 0.860716618623568*I\n",
      "3 -0.647798871261042 - 4.67618288267623e-27*I\n",
      "4 0.647798871261042 + 0.e-25*I\n",
      "5 -0.176100564369479 + 0.860716618623568*I\n",
      "6 0.176100564369479 - 0.860716618623568*I\n"
     ]
    }
   ],
   "source": [
    "len(sol) ##:\n",
    "\n",
    "for i, s in enumerate(sol):\n",
    "    print(i + 1, s.subs(dz3, 1).evalf())"
   ]
  },
  {
   "cell_type": "markdown",
   "metadata": {},
   "source": [
    "$\\rightarrow$ we get one positive real solution.\n",
    "\n",
    "This is consistent with the picture above: one minimum at $r_1 \\approx 0.65$"
   ]
  },
  {
   "cell_type": "code",
   "execution_count": 25,
   "metadata": {},
   "outputs": [
    {
     "name": "stdout",
     "output_type": "stream",
     "text": [
      "0.0706227831905930\n",
      "0.220957890360505\n",
      "0.647798871261042\n",
      "1.62044085898296\n"
     ]
    }
   ],
   "source": [
    "# Define a function wich for every r1-value always selects the real positive solution\n",
    "\n",
    "def r1_opt(dz3_value):\n",
    "    results = [s.subs(dz3, dz3_value).evalf() for s in sol]\n",
    "    \n",
    "    results.sort(key=lambda x: abs(sp.im(x)))\n",
    "    \n",
    "    r1 = sp.re(results[0])\n",
    "    if r1 < 0:\n",
    "        r1 = sp.re(results[1])\n",
    "    assert r1 >= 0\n",
    "    return r1\n",
    "\n",
    "# test\n",
    "for p in [0.01, .1, 1, 10]:\n",
    "    print(r1_opt(p))"
   ]
  },
  {
   "cell_type": "code",
   "execution_count": 26,
   "metadata": {},
   "outputs": [],
   "source": [
    "# Speedup the evaluation later (prepare values for interpolation)\n",
    "zz3 = np.logspace(-3, 3, 100)\n",
    "\n",
    "rr_opt = [r1_opt(z3_value) for z3_value in zz3]\n",
    "r1_opt_interp = sc.interpolate.interp1d(zz3, rr_opt, bounds_error=False, fill_value=\"extrapolate\")"
   ]
  },
  {
   "cell_type": "markdown",
   "metadata": {},
   "source": [
    "#### optimal value of $r_1$ in dependence of  $\\Delta z_3$"
   ]
  },
  {
   "cell_type": "code",
   "execution_count": 27,
   "metadata": {},
   "outputs": [
    {
     "data": {
      "text/plain": [
       "[<matplotlib.lines.Line2D at 0x7f36a9c30780>]"
      ]
     },
     "execution_count": 27,
     "metadata": {},
     "output_type": "execute_result"
    },
    {
     "data": {
      "image/png": "[encoded data removed]",
      "text/plain": [
       "<matplotlib.figure.Figure at 0x7f36a9f67198>"
      ]
     },
     "metadata": {},
     "output_type": "display_data"
    }
   ],
   "source": [
    "plt.plot(zz3, r1_opt_interp(zz3))"
   ]
  },
  {
   "cell_type": "code",
   "execution_count": 28,
   "metadata": {},
   "outputs": [
    {
     "data": {
      "image/png": "[encoded data removed]",
      "text/plain": [
       "<matplotlib.figure.Figure at 0x7f36a9c30e48>"
      ]
     },
     "metadata": {},
     "output_type": "display_data"
    }
   ],
   "source": [
    "# produce figrue for the slides/paper\n",
    "\n",
    "plt.rcParams['font.size'] = 26\n",
    "plt.rcParams['axes.labelsize'] = 38\n",
    "plt.rcParams['figure.subplot.bottom'] = .2\n",
    "\n",
    "zz3 = np.logspace(-3, 1, 100)\n",
    "plt.plot(zz3, r1_opt_interp(zz3), lw=3)\n",
    "plt.xlabel(r\"$\\Delta z$\")\n",
    "plt.ylabel(r\"$r_{*,\\mathrm{opt}}$\")\n",
    "plt.savefig(\"r_opt__Delta_z.pdf\")"
   ]
  },
  {
   "cell_type": "code",
   "execution_count": 29,
   "metadata": {},
   "outputs": [
    {
     "data": {
      "text/plain": [
       "r1_opt_interp(.7)  := array(0.5533069892183082)"
      ]
     },
     "metadata": {},
     "output_type": "display_data"
    },
    {
     "name": "stdout",
     "output_type": "stream",
     "text": [
      "___\n"
     ]
    },
    {
     "data": {
      "image/png": "[encoded data removed]",
      "text/latex": [
       "$$\\verb|r1_opt(.7) | := 0.553386498134765$$"
      ],
      "text/plain": [
       "r1_opt(.7)  := 0.553386498134765"
      ]
     },
     "metadata": {},
     "output_type": "display_data"
    },
    {
     "name": "stdout",
     "output_type": "stream",
     "text": [
      "___\n"
     ]
    },
    {
     "data": {
      "image/png": "[encoded data removed]",
      "text/latex": [
       "$$\\verb|r1_opt_interp(.7)- r1_opt(.7)| := -7.95089164564722 \\cdot 10^{-5}$$"
      ],
      "text/plain": [
       "r1_opt_interp(.7)- r1_opt(.7) := -7.95089164564722e-5"
      ]
     },
     "metadata": {},
     "output_type": "display_data"
    },
    {
     "name": "stdout",
     "output_type": "stream",
     "text": [
      "___\n"
     ]
    }
   ],
   "source": [
    "# check a sample\n",
    "\n",
    "r1_opt_interp(.7) ##:\n",
    "r1_opt(.7) ##:\n",
    "r1_opt_interp(.7)- r1_opt(.7)##:\n"
   ]
  },
  {
   "cell_type": "markdown",
   "metadata": {},
   "source": [
    "### Simulation Experiments\n",
    "\n",
    "#### Auxiliary functions"
   ]
  },
  {
   "cell_type": "code",
   "execution_count": 30,
   "metadata": {},
   "outputs": [
    {
     "data": {
      "text/plain": [
       "[<matplotlib.lines.Line2D at 0x7f36b22d1fd0>]"
      ]
     },
     "execution_count": 30,
     "metadata": {},
     "output_type": "execute_result"
    },
    {
     "data": {
      "image/png": "[encoded data removed]",
      "text/plain": [
       "<matplotlib.figure.Figure at 0x7f36a910a748>"
      ]
     },
     "metadata": {},
     "output_type": "display_data"
    }
   ],
   "source": [
    "def sigmoid(xmin, xmax, x, slope=40):\n",
    "    \"\"\"\n",
    "    smoothly map x to the range (xmin, xmax)\n",
    "    \n",
    "    This is used to scale the input signals near if the tolerance is near (to avoid sliding modes)\n",
    "    \"\"\"\n",
    "    assert xmax > xmin\n",
    "    dx = xmax - xmin\n",
    "    \n",
    "    res = xmax - dx/(1+ .05*np.exp(slope*x))\n",
    "    return res\n",
    "\n",
    "xx = np.arange(-1,1, .01)\n",
    "plt.plot(xx, sigmoid(.01, 1, xx,))\n",
    "plt.plot(xx, sigmoid(.1, 1, xx))"
   ]
  },
  {
   "cell_type": "code",
   "execution_count": 31,
   "metadata": {},
   "outputs": [],
   "source": [
    "\n",
    "def cont_continuation(x, stephight=2*np.pi, threshold=.01):\n",
    "    \"\"\"\n",
    "    continuous continuation (for 1d-arrays)\n",
    "\n",
    "    x           .... data\n",
    "\n",
    "\n",
    "    stephight   ... the expected stephight (e.g 2*pi)\n",
    "\n",
    "    threshold   .... smallest difference which is considered as a discontinuity\n",
    "                    which has to be corrected\n",
    "                    (must be greater than the Lipschitz-Const. of the signal\n",
    "                     times dt)\n",
    "\n",
    "    \"\"\"\n",
    "    x_d = np.concatenate(  ([0], np.diff(x))  )\n",
    "    corrector_array = np.sign(x_d) * (np.abs(x_d) > threshold)\n",
    "    corrector_array = np.cumsum(corrector_array) * -stephight\n",
    "\n",
    "    return x + corrector_array"
   ]
  },
  {
   "cell_type": "markdown",
   "metadata": {},
   "source": [
    "#### Vector Field of the Brocket-Integrator in original coordinates"
   ]
  },
  {
   "cell_type": "code",
   "execution_count": 32,
   "metadata": {},
   "outputs": [],
   "source": [
    "def rhs(state, _):\n",
    "    u1, u2 = controller(state)\n",
    "    x1, x2, x3 = state\n",
    "    return np.array([u1, u2, x2*u1 - x1*u2])\n",
    "\n",
    "vv_to_uu = sp.lambdify((v1, v2, x1, x2), list(uue))\n",
    "z_tol = 1e-2\n",
    "r_tol = 1e-2\n"
   ]
  },
  {
   "cell_type": "markdown",
   "metadata": {},
   "source": [
    "#### Control Law"
   ]
  },
  {
   "cell_type": "code",
   "execution_count": 33,
   "metadata": {},
   "outputs": [],
   "source": [
    "def controller(state):\n",
    "    x1, x2, x3 = state\n",
    "    r = np.sqrt(x1**2 + x2**2)\n",
    "    z = x3\n",
    "    r_opt_value = r1_opt_interp(abs(z))\n",
    "    \n",
    "    if r == 0:\n",
    "        # go in x1 direction if phi is not well definded (at r=0)\n",
    "        return [1, 0]\n",
    "    \n",
    "    if r < r_opt_value and abs(z) >= z_tol:\n",
    "        # Stage 1\n",
    "        v1 = 1\n",
    "        v2 = 0\n",
    "    elif r >= r_opt_value and abs(z) >= z_tol:\n",
    "        # Stage 2\n",
    "        v1 = 0\n",
    "        v2 = np.sign(z)*sigmoid(.05, 1, abs(z-z_tol))\n",
    "    elif abs(z) < z_tol:\n",
    "        # Stage 3\n",
    "        v1 = -1\n",
    "        v2 = 0\n",
    "        \n",
    "    if abs(z) < z_tol and r < r_tol:\n",
    "        # detection of desired state\n",
    "        v1 = 0\n",
    "        \n",
    "    # calculate u1, u2, from v1, v2\n",
    "    return vv_to_uu(v1, v2, x1, x2)"
   ]
  },
  {
   "cell_type": "markdown",
   "metadata": {},
   "source": [
    "#### Euler-forward method for integration"
   ]
  },
  {
   "cell_type": "code",
   "execution_count": 34,
   "metadata": {},
   "outputs": [],
   "source": [
    "def euler(rhs, y0, T, dt=.01):\n",
    "    res=[y0]\n",
    "    tt=[0]\n",
    "    while tt[-1] <= T:\n",
    "        x_old = res[-1]\n",
    "        res.append(x_old+dt*rhs(x_old, 0))\n",
    "        tt.append(tt[-1] + dt)\n",
    "    return tt, np.array(res)\n",
    "    \n",
    "    "
   ]
  },
  {
   "cell_type": "code",
   "execution_count": 35,
   "metadata": {},
   "outputs": [],
   "source": [
    "Tend = 6\n",
    "dt = .005\n",
    "def simulate(xx0):\n",
    "    tt, xxn = euler(rhs, xx0, Tend, dt=dt)\n",
    "    return np.array(xxn)"
   ]
  },
  {
   "cell_type": "code",
   "execution_count": 36,
   "metadata": {},
   "outputs": [],
   "source": [
    "N = 20\n",
    "np.random.seed(3)\n",
    "\n",
    "# initial values: x1, x2 uniformly random in (-1, 1)\n",
    "# x3 in (0, 1)\n",
    "xx0_values = np.column_stack( ((np.random.rand(N, 2) - .5), np.random.rand(N, 1)))\n",
    "\n",
    "res = [simulate(xx0) for xx0 in xx0_values]\n",
    "\n",
    "# swap some of the results, such that 3d view looks nicer\n",
    "res[0], res[1] = res[1], res[0]\n",
    "\n",
    "tt = np.arange(0, Tend+2*dt, dt)[:res[0].shape[0]]"
   ]
  },
  {
   "cell_type": "code",
   "execution_count": 37,
   "metadata": {},
   "outputs": [
    {
     "name": "stdout",
     "output_type": "stream",
     "text": [
      "[Text(0,0,''), Text(0,0,'$\\\\phantom{-}0.0$'), Text(0,0.5,'$0.5$'), Text(0,0,'')]\n"
     ]
    },
    {
     "data": {
      "image/png": "[encoded data removed]",
      "text/plain": [
       "<matplotlib.figure.Figure at 0x7f36b436a940>"
      ]
     },
     "metadata": {},
     "output_type": "display_data"
    },
    {
     "data": {
      "image/png": "[encoded data removed]",
      "text/plain": [
       "<matplotlib.figure.Figure at 0x7f36a902cd68>"
      ]
     },
     "metadata": {},
     "output_type": "display_data"
    },
    {
     "data": {
      "image/png": "[encoded data removed]",
      "text/plain": [
       "<matplotlib.figure.Figure at 0x7f36a8fcca90>"
      ]
     },
     "metadata": {},
     "output_type": "display_data"
    }
   ],
   "source": [
    "# Interactive plot window\n",
    "# %matplotlib qt5\n",
    "\n",
    "# alternatively: embedded images\n",
    "%matplotlib inline\n",
    "\n",
    "plt.rcParams['font.size'] = 14\n",
    "plt.rcParams['axes.labelsize'] = 20\n",
    "plt.rcParams['figure.subplot.bottom'] = .2\n",
    "\n",
    "plt.rcParams['figure.subplot.left'] = .05\n",
    "plt.rcParams['figure.subplot.right'] = .9\n",
    "\n",
    "fig_3d = plt.figure(1, figsize=(4.8, 4.1))\n",
    "ax0 = fig_3d.gca(projection='3d')\n",
    "# plot axis\n",
    "\n",
    "kwargs1 = dict(color=\"0.3\", ls=\"solid\", lw=2)\n",
    "\n",
    "# plot coordinate system\n",
    "ax0.plot([-.1, .65], [0, 0], [0, 0], **kwargs1)\n",
    "ax0.plot([0, 0], [-.1, .65], [0, 0], **kwargs1)\n",
    "ax0.plot([0, 0], [0, 0], [-.1, 1], **kwargs1)\n",
    "\n",
    "ax0.set_xlabel(\"$x_1$\")\n",
    "ax0.set_xticks([-.6, .6])\n",
    "ax0.set_ylabel(\"$x_2$\")\n",
    "ax0.set_yticks([-.6, .6])\n",
    "ax0.set_zlabel(\"$x_3$\")\n",
    "ax0.set_zticks([0, 1])\n",
    "\n",
    "\n",
    "plt.rcParams['font.size'] = 20\n",
    "plt.rcParams['axes.labelsize'] = 26\n",
    "plt.rcParams['figure.subplot.left'] = .2\n",
    "plt.rcParams['figure.subplot.right'] = .98\n",
    "\n",
    "plt.rcParams['figure.subplot.hspace'] = 0.02\n",
    "\n",
    "fs = (7.9, 4.5)\n",
    "\n",
    "fig_xx = plt.figure(2, figsize=fs)\n",
    "ax1 = plt.subplot(311)\n",
    "ax2 = plt.subplot(312)\n",
    "ax3 = plt.subplot(313)\n",
    "\n",
    "fig_rphi = plt.figure(3, figsize=fs)\n",
    "\n",
    "ax4 = plt.subplot(211)\n",
    "ax5 = plt.subplot(212)\n",
    "\n",
    "ax1.set_ylabel(\"$x_1$\")\n",
    "ax2.set_ylabel(\"$x_2$\")\n",
    "ax3.set_ylabel(\"$x_3$\")\n",
    "ax3.set_xlabel(\"$t$\")\n",
    "\n",
    "ax4.set_ylabel(\"$r$\")\n",
    "ax5.set_ylabel(r\"$\\varphi$\")\n",
    "ax5.set_xlabel(\"$t$\")\n",
    "\n",
    "# preset zoom such that the axes will not flicker\n",
    "ax0.axis([-0.68, 0.78, -0.69, .78])\n",
    "ax1.axis([-0.3, 6.31, -0.76, 0.63])\n",
    "ax2.axis([-0.3, 6.31, -0.67, 0.72])\n",
    "ax3.axis([-0.3, 6.31, -0.03, 0.9])\n",
    "ax4.axis([-0.3, 6.31, -0.02, 0.64])\n",
    "ax5.axis([-0.3, 6.31, -5.48, 2.93])\n",
    "\n",
    "\n",
    "for i, xxn in enumerate(res):\n",
    "    r = np.sqrt(xxn[:, 0]**2 + xxn[:, 1]**2)\n",
    "    phi_ = np.arctan2(xxn[:, 0], xxn[:, 1])\n",
    "    phi = cont_continuation(phi_)\n",
    "    z = xxn[:, 2]\n",
    "    \n",
    "    ax0.plot(xxn[:, 0], xxn[:, 1], xxn[:, 2])\n",
    "    ax1.plot(tt, xxn[:, 0])\n",
    "    ax2.plot(tt, xxn[:, 1])\n",
    "    ax3.plot(tt, xxn[:, 2])\n",
    "    \n",
    "    ax4.plot(tt, r)\n",
    "    ax5.plot(tt, phi)\n",
    "    \n",
    "    if i in [0, 4, N-1]:\n",
    "    #if i in [0]:\n",
    "\n",
    "        fig_3d.savefig(\"bi-3d-{:02d}.pdf\".format(i+1))\n",
    "        fig_xx.savefig(\"bi-xx-{:02d}.pdf\".format(i+1))\n",
    "        fig_rphi.savefig(\"bi-rphi-{:02d}.pdf\".format(i+1))\n",
    "        # break\n",
    "\n",
    "        \n",
    "ax1.set_xticklabels([\"\"]*4)\n",
    "ax2.set_xticklabels([\"\"]*4)\n",
    "# adjust y_label for x3\n",
    "l  = list(ax3.get_yticklabels())\n",
    "l[1].set_text(\"$\\phantom{-}0.0$\")\n",
    "print(l)\n",
    "ax3.set_yticklabels(l)\n",
    "\n",
    "\n",
    "plt.show()\n"
   ]
  }
 ],
 "metadata": {
  "kernelspec": {
   "display_name": "Python 3",
   "language": "python",
   "name": "python3"
  },
  "language_info": {
   "codemirror_mode": {
    "name": "ipython",
    "version": 3
   },
   "file_extension": ".py",
   "mimetype": "text/x-python",
   "name": "python",
   "nbconvert_exporter": "python",
   "pygments_lexer": "ipython3",
   "version": "3.6.3"
  }
 },
 "nbformat": 4,
 "nbformat_minor": 2
}
