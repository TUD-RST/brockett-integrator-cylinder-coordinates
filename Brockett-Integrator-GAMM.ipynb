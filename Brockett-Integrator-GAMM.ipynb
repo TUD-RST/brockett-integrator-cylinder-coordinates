{
 "cells": [
  {
   "cell_type": "markdown",
   "metadata": {},
   "source": [
    "# Geometry-Inspired Control of the Brockett-Integrator in Cylinder Coordinates\n",
    "\n",
    "This Notebook documents the important calculations for the conference contribution entitled \"Geometry-Inspired Control of the Brockett-Integrator in Cylinder Coordinates\" presented at the GAMM annual meeting 2018.\n",
    "\n",
    "**Note** This Jupyter-Notebook is currently mostly in German and will be translated in the near future.\n",
    "\n"
   ]
  },
  {
   "cell_type": "markdown",
   "metadata": {},
   "source": [
    "Dieses Notebook untersucht den Brockett-Integrator\n",
    "\n",
    "\n",
    "\\begin{align}\n",
    "%\\label{eq_}\n",
    "\\dot x_1 &= u_1\\\\\n",
    "\\dot x_2 &= u_2\\\\\n",
    "\\dot x_3 &= x_2 u_1 - x_1 u_2\n",
    "\\end{align}\n",
    "\n",
    "\n"
   ]
  },
  {
   "cell_type": "code",
   "execution_count": 1,
   "metadata": {},
   "outputs": [
    {
     "data": {
      "text/plain": [
       "'Mon Mar 19 20:43:40 2018'"
      ]
     },
     "execution_count": 1,
     "metadata": {},
     "output_type": "execute_result"
    }
   ],
   "source": [
    "import time\n",
    "time.ctime()"
   ]
  },
  {
   "cell_type": "markdown",
   "metadata": {},
   "source": [
    "### Technische Abhängigkeiten:\n",
    "\n",
    "\n",
    "https://github.com/TUD-RST/symbtools\n",
    "\n",
    "https://github.com/cknoll/ipydex (for displaytools)\n",
    "'"
   ]
  },
  {
   "cell_type": "code",
   "execution_count": 2,
   "metadata": {},
   "outputs": [],
   "source": [
    "%load_ext ipydex.displaytools\n",
    "\n",
    "import sympy as sp\n",
    "import numpy as np\n",
    "import scipy as sc\n",
    "import scipy.integrate\n",
    "import scipy.interpolate\n",
    "import matplotlib.pyplot as plt\n",
    "%matplotlib inline\n",
    "\n",
    "import symbtools as st\n",
    "from sympy.interactive import printing\n",
    "printing.init_printing(1)\n",
    "\n",
    "\n",
    "plt.rc('text.latex', preamble=r'\\usepackage{amsmath}') # für \\text{..}\n",
    "plt.rcParams['text.usetex'] = True\n",
    "\n",
    "plt.rcParams['figure.subplot.bottom'] = .265\n",
    "plt.rcParams['figure.subplot.left'] = .21\n",
    "plt.rcParams['figure.subplot.top'] = .98\n",
    "plt.rcParams['figure.subplot.right'] = .98\n",
    "\n",
    "plt.rcParams['figure.subplot.hspace'] = .5 # vertikaler Abstand\n",
    "plt.rcParams['figure.subplot.wspace'] = .5 # horizontaler Abstand\n",
    "\n",
    "plt.rcParams['font.size'] = 14\n",
    "plt.rcParams['axes.labelsize'] = 14\n"
   ]
  },
  {
   "cell_type": "code",
   "execution_count": 3,
   "metadata": {},
   "outputs": [],
   "source": [
    "xx = st.symb_vector(\"x1:4\")\n",
    "uu = st.symb_vector(\"u1:3\")\n",
    "zz = st.symb_vector(\"z1:4\")\n",
    "vv = st.symb_vector(\"v1:3\")\n",
    "st.make_global(xx, uu, zz, vv)"
   ]
  },
  {
   "cell_type": "markdown",
   "metadata": {},
   "source": [
    "### Lässt sich das System in die *regular Form* (Khalil S. 564) überführen?\n",
    "→ Involutivitätsuntersuchung"
   ]
  },
  {
   "cell_type": "code",
   "execution_count": 4,
   "metadata": {},
   "outputs": [
    {
     "data": {
      "image/png": "[encoded data removed]",
      "text/latex": [
       "$$\\verb|b1| := \\left[\\begin{matrix}1\\\\0\\\\x_{2}\\end{matrix}\\right]$$"
      ],
      "text/plain": [
       "b1 := ⎡1 ⎤\n",
       "⎢  ⎥\n",
       "⎢0 ⎥\n",
       "⎢  ⎥\n",
       "⎣x₂⎦"
      ]
     },
     "metadata": {},
     "output_type": "display_data"
    },
    {
     "name": "stdout",
     "output_type": "stream",
     "text": [
      "---\n"
     ]
    },
    {
     "data": {
      "image/png": "[encoded data removed]",
      "text/latex": [
       "$$\\verb|b2| := \\left[\\begin{matrix}0\\\\1\\\\- x_{1}\\end{matrix}\\right]$$"
      ],
      "text/plain": [
       "b2 := ⎡ 0 ⎤\n",
       "⎢   ⎥\n",
       "⎢ 1 ⎥\n",
       "⎢   ⎥\n",
       "⎣-x₁⎦"
      ]
     },
     "metadata": {},
     "output_type": "display_data"
    },
    {
     "name": "stdout",
     "output_type": "stream",
     "text": [
      "---\n"
     ]
    }
   ],
   "source": [
    "b1 = sp.Matrix([1, 0, x2]) ##:\n",
    "b2 = sp.Matrix([0, 1, -x1]) ##:\n",
    "B = st.col_stack(b1, b2)"
   ]
  },
  {
   "cell_type": "markdown",
   "metadata": {},
   "source": [
    "Involutivitäts-Test"
   ]
  },
  {
   "cell_type": "code",
   "execution_count": 5,
   "metadata": {},
   "outputs": [
    {
     "data": {
      "text/plain": [
       "(False, (0, 1))"
      ]
     },
     "execution_count": 5,
     "metadata": {},
     "output_type": "execute_result"
    }
   ],
   "source": [
    "st.involutivity_test(B, xx)"
   ]
  },
  {
   "cell_type": "markdown",
   "metadata": {},
   "source": [
    "→ nicht involutiv.\n",
    "\n",
    "\n",
    "Das sieht man auch direkt"
   ]
  },
  {
   "cell_type": "code",
   "execution_count": 6,
   "metadata": {},
   "outputs": [
    {
     "data": {
      "image/png": "[encoded data removed]",
      "text/latex": [
       "$$\\left[\\begin{matrix}0\\\\0\\\\-2\\end{matrix}\\right]$$"
      ],
      "text/plain": [
       "⎡0 ⎤\n",
       "⎢  ⎥\n",
       "⎢0 ⎥\n",
       "⎢  ⎥\n",
       "⎣-2⎦"
      ]
     },
     "metadata": {},
     "output_type": "display_data"
    },
    {
     "name": "stdout",
     "output_type": "stream",
     "text": [
      "---\n"
     ]
    }
   ],
   "source": [
    "ad_b1_b2 = st.lie_bracket(b1, b2, xx) ##"
   ]
  },
  {
   "cell_type": "markdown",
   "metadata": {},
   "source": [
    "Damit ist die Lie-Algebra-Rang-Bedingung offensichtilich auch erfüllt:"
   ]
  },
  {
   "cell_type": "code",
   "execution_count": 7,
   "metadata": {},
   "outputs": [
    {
     "data": {
      "image/png": "[encoded data removed]",
      "text/latex": [
       "$$\\verb|test_matrix| := \\left[\\begin{matrix}1 & 0 & 0\\\\0 & 1 & 0\\\\x_{2} & - x_{1} & -2\\end{matrix}\\right]$$"
      ],
      "text/plain": [
       "test_matrix := ⎡1    0   0 ⎤\n",
       "⎢           ⎥\n",
       "⎢0    1   0 ⎥\n",
       "⎢           ⎥\n",
       "⎣x₂  -x₁  -2⎦"
      ]
     },
     "metadata": {},
     "output_type": "display_data"
    },
    {
     "name": "stdout",
     "output_type": "stream",
     "text": [
      "---\n"
     ]
    },
    {
     "data": {
      "image/png": "[encoded data removed]",
      "text/latex": [
       "$$3$$"
      ],
      "text/plain": [
       "3"
      ]
     },
     "execution_count": 7,
     "metadata": {},
     "output_type": "execute_result"
    }
   ],
   "source": [
    "test_matrix = st.col_stack(b1, b2, ad_b1_b2) ##:\n",
    "st.generic_rank(test_matrix)"
   ]
  },
  {
   "cell_type": "markdown",
   "metadata": {},
   "source": [
    "### Herleitung eines schaltenden Regelgesetzes, welches den Ursprung (vermutlich)  global asymtoptisch stabilisiert\n",
    " * basiert auf Darstellung in Zylinderkoordinaten\n",
    "\n",
    "Wdh.: Darstellung in Originalkoordinaten:\n",
    "\n",
    "$\n",
    "\\begin{align}\n",
    "%\\label{eq_}\n",
    "\\dot x_1 &= u_1\\\\\n",
    "\\dot x_2 &= u_2\\\\\n",
    "\\dot x_3 &= x_2 u_1 - x_1 u_2\n",
    "\\end{align}\n",
    "$"
   ]
  },
  {
   "cell_type": "code",
   "execution_count": 8,
   "metadata": {},
   "outputs": [
    {
     "data": {
      "image/png": "[encoded data removed]",
      "text/latex": [
       "$$\\verb|ff| := \\left[\\begin{matrix}u_{1}\\\\u_{2}\\\\u_{1} x_{2} - u_{2} x_{1}\\end{matrix}\\right]$$"
      ],
      "text/plain": [
       "ff := ⎡     u₁      ⎤\n",
       "⎢             ⎥\n",
       "⎢     u₂      ⎥\n",
       "⎢             ⎥\n",
       "⎣u₁⋅x₂ - u₂⋅x₁⎦"
      ]
     },
     "metadata": {},
     "output_type": "display_data"
    },
    {
     "name": "stdout",
     "output_type": "stream",
     "text": [
      "---\n"
     ]
    }
   ],
   "source": [
    "ff = B*uu ##:"
   ]
  },
  {
   "cell_type": "markdown",
   "metadata": {},
   "source": [
    "### Herleitung: Systemdynamik in Zylinderkoordinaten:\n",
    "\n",
    "\n",
    "\\begin{align}\n",
    "%\\label{eq_}\n",
    "r &= z_1 =  \\sqrt{x_1^2 + x_2^2} \\\\\n",
    "\\varphi &= z_2 = \\mathrm{arctan2}(x_2, x_1) \\\\\n",
    "z &= z_3 = x_3\n",
    "\\end{align}\n"
   ]
  },
  {
   "cell_type": "code",
   "execution_count": 9,
   "metadata": {},
   "outputs": [
    {
     "data": {
      "image/png": "[encoded data removed]",
      "text/latex": [
       "$$\\verb|ffz| := \\left[\\begin{matrix}\\frac{u_{1} x_{1}}{\\sqrt{x_{1}^{2} + x_{2}^{2}}} + \\frac{u_{2} x_{2}}{\\sqrt{x_{1}^{2} + x_{2}^{2}}}\\\\- \\frac{u_{1} x_{2}}{x_{1}^{2} + x_{2}^{2}} + \\frac{u_{2} x_{1}}{x_{1}^{2} + x_{2}^{2}}\\\\u_{1} x_{2} - u_{2} x_{1}\\end{matrix}\\right]$$"
      ],
      "text/plain": [
       "ffz := ⎡    u₁⋅x₁            u₂⋅x₂     ⎤\n",
       "⎢────────────── + ──────────────⎥\n",
       "⎢   ___________      ___________⎥\n",
       "⎢  ╱   2     2      ╱   2     2 ⎥\n",
       "⎢╲╱  x₁  + x₂     ╲╱  x₁  + x₂  ⎥\n",
       "⎢                               ⎥\n",
       "⎢        u₁⋅x₂       u₂⋅x₁      ⎥\n",
       "⎢    - ───────── + ─────────    ⎥\n",
       "⎢        2     2     2     2    ⎥\n",
       "⎢      x₁  + x₂    x₁  + x₂     ⎥\n",
       "⎢                               ⎥\n",
       "⎣         u₁⋅x₂ - u₂⋅x₁         ⎦"
      ]
     },
     "metadata": {},
     "output_type": "display_data"
    },
    {
     "name": "stdout",
     "output_type": "stream",
     "text": [
      "---\n"
     ]
    },
    {
     "data": {
      "image/png": "[encoded data removed]",
      "text/latex": [
       "$$\\verb|ffz| := \\left[\\begin{matrix}\\frac{u_{1} x_{1}}{z_{1}} + \\frac{u_{2} x_{2}}{z_{1}}\\\\v_{2}\\\\- v_{2} z_{1}^{2}\\end{matrix}\\right]$$"
      ],
      "text/plain": [
       "ffz := ⎡u₁⋅x₁   u₂⋅x₂⎤\n",
       "⎢───── + ─────⎥\n",
       "⎢  z₁      z₁ ⎥\n",
       "⎢             ⎥\n",
       "⎢     v₂      ⎥\n",
       "⎢             ⎥\n",
       "⎢         2   ⎥\n",
       "⎣   -v₂⋅z₁    ⎦"
      ]
     },
     "metadata": {},
     "output_type": "display_data"
    },
    {
     "name": "stdout",
     "output_type": "stream",
     "text": [
      "---\n"
     ]
    },
    {
     "data": {
      "image/png": "[encoded data removed]",
      "text/latex": [
       "$$\\verb|ffz| := \\left[\\begin{matrix}v_{1}\\\\v_{2}\\\\- v_{2} z_{1}^{2}\\end{matrix}\\right]$$"
      ],
      "text/plain": [
       "ffz := ⎡  v₁   ⎤\n",
       "⎢       ⎥\n",
       "⎢  v₂   ⎥\n",
       "⎢       ⎥\n",
       "⎢      2⎥\n",
       "⎣-v₂⋅z₁ ⎦"
      ]
     },
     "metadata": {},
     "output_type": "display_data"
    },
    {
     "name": "stdout",
     "output_type": "stream",
     "text": [
      "---\n"
     ]
    }
   ],
   "source": [
    "z1e = sp.sqrt(x1**2 + x2**2)\n",
    "z2e = sp.atan2(x2, x1)\n",
    "z3e = x3\n",
    "\n",
    "zz_expr = sp.Matrix([z1e, z2e, z3e])\n",
    "\n",
    "rplm1 = [(z1e, z1), (sp.expand(-ff[2]/z1**2), v2), (ff[2], -z1**2*v2)]\n",
    "\n",
    "ffz = zz_expr.jacobian(xx)*ff ##:\n",
    "ffz = ffz.subs(rplm1) ##:\n",
    "rplm2 = [(ffz[0], v1)]\n",
    "ffz = ffz.subs(rplm2) ##:\n"
   ]
  },
  {
   "cell_type": "code",
   "execution_count": 10,
   "metadata": {},
   "outputs": [
    {
     "data": {
      "image/png": "[encoded data removed]",
      "text/latex": [
       "$$\\verb|vve| := \\left[\\begin{matrix}\\frac{u_{1} x_{1}}{z_{1}} + \\frac{u_{2} x_{2}}{z_{1}}\\\\- \\frac{u_{1} x_{2}}{z_{1}^{2}} + \\frac{u_{2} x_{1}}{z_{1}^{2}}\\end{matrix}\\right]$$"
      ],
      "text/plain": [
       "vve := ⎡ u₁⋅x₁   u₂⋅x₂ ⎤\n",
       "⎢ ───── + ───── ⎥\n",
       "⎢   z₁      z₁  ⎥\n",
       "⎢               ⎥\n",
       "⎢  u₁⋅x₂   u₂⋅x₁⎥\n",
       "⎢- ───── + ─────⎥\n",
       "⎢     2       2 ⎥\n",
       "⎣   z₁      z₁  ⎦"
      ]
     },
     "metadata": {},
     "output_type": "display_data"
    },
    {
     "name": "stdout",
     "output_type": "stream",
     "text": [
      "---\n"
     ]
    }
   ],
   "source": [
    "vve = vv.subs(st.rev_tuple(rplm1+rplm2)) ##:\n"
   ]
  },
  {
   "cell_type": "code",
   "execution_count": 11,
   "metadata": {},
   "outputs": [],
   "source": [
    "from symbtools import interactive_aux as ia"
   ]
  },
  {
   "cell_type": "code",
   "execution_count": 12,
   "metadata": {},
   "outputs": [
    {
     "name": "stdout",
     "output_type": "stream",
     "text": [
      "\\left(\\begin{matrix}\n",
      "\\frac{u_{1} x_{1}}{z_{1}} + \\frac{u_{2} x_{2}}{z_{1}}\\\\\n",
      "- \\frac{u_{1} x_{2}}{z_{1}^{2}} + \\frac{u_{2} x_{1}}{z_{1}^{2}}\n",
      "\\end{matrix}\\right)\n",
      "% -------------\n"
     ]
    }
   ],
   "source": [
    "ia.adapted_latex(vve)"
   ]
  },
  {
   "cell_type": "code",
   "execution_count": 13,
   "metadata": {},
   "outputs": [
    {
     "data": {
      "image/png": "[encoded data removed]",
      "text/latex": [
       "$$- \\frac{x_{2}}{x_{1}^{2} + x_{2}^{2}}$$"
      ],
      "text/plain": [
       "   -x₂   \n",
       "─────────\n",
       "  2     2\n",
       "x₁  + x₂ "
      ]
     },
     "execution_count": 13,
     "metadata": {},
     "output_type": "execute_result"
    }
   ],
   "source": [
    "z2e.diff(x1)"
   ]
  },
  {
   "cell_type": "code",
   "execution_count": 14,
   "metadata": {},
   "outputs": [
    {
     "data": {
      "image/png": "[encoded data removed]",
      "text/latex": [
       "$$\\verb|st.lie_deriv(z1e, ff, xx) | := \\frac{u_{1} x_{1}}{\\sqrt{x_{1}^{2} + x_{2}^{2}}} + \\frac{u_{2} x_{2}}{\\sqrt{x_{1}^{2} + x_{2}^{2}}}$$"
      ],
      "text/plain": [
       "st.lie_deriv(z1e, ff, xx)  :=     u₁⋅x₁            u₂⋅x₂     \n",
       "────────────── + ──────────────\n",
       "   ___________      ___________\n",
       "  ╱   2     2      ╱   2     2 \n",
       "╲╱  x₁  + x₂     ╲╱  x₁  + x₂  "
      ]
     },
     "metadata": {},
     "output_type": "display_data"
    },
    {
     "name": "stdout",
     "output_type": "stream",
     "text": [
      "___\n"
     ]
    },
    {
     "data": {
      "image/png": "[encoded data removed]",
      "text/latex": [
       "$$\\verb|st.lie_deriv(z2e, ff, xx) | := - \\frac{u_{1} x_{2}}{x_{1}^{2} + x_{2}^{2}} + \\frac{u_{2} x_{1}}{x_{1}^{2} + x_{2}^{2}}$$"
      ],
      "text/plain": [
       "st.lie_deriv(z2e, ff, xx)  :=     u₁⋅x₂       u₂⋅x₁  \n",
       "- ───────── + ─────────\n",
       "    2     2     2     2\n",
       "  x₁  + x₂    x₁  + x₂ "
      ]
     },
     "metadata": {},
     "output_type": "display_data"
    },
    {
     "name": "stdout",
     "output_type": "stream",
     "text": [
      "___\n"
     ]
    }
   ],
   "source": [
    "st.lie_deriv(z1e, ff, xx) ##:\n",
    "st.lie_deriv(z2e, ff, xx) ##:"
   ]
  },
  {
   "cell_type": "markdown",
   "metadata": {},
   "source": [
    "Rücktranstformation des Eingangs"
   ]
  },
  {
   "cell_type": "code",
   "execution_count": 15,
   "metadata": {},
   "outputs": [
    {
     "data": {
      "image/png": "[encoded data removed]",
      "text/latex": [
       "$$\\verb|M.subs(rplm1) | := \\left[\\begin{matrix}\\frac{x_{1}}{z_{1}} & - x_{2}\\\\\\frac{x_{2}}{z_{1}} & x_{1}\\end{matrix}\\right]$$"
      ],
      "text/plain": [
       "M.subs(rplm1)  := ⎡x₁     ⎤\n",
       "⎢──  -x₂⎥\n",
       "⎢z₁     ⎥\n",
       "⎢       ⎥\n",
       "⎢x₂     ⎥\n",
       "⎢──  x₁ ⎥\n",
       "⎣z₁     ⎦"
      ]
     },
     "metadata": {},
     "output_type": "display_data"
    },
    {
     "name": "stdout",
     "output_type": "stream",
     "text": [
      "___\n"
     ]
    },
    {
     "data": {
      "image/png": "[encoded data removed]",
      "text/latex": [
       "$$\\verb|uue| := \\left[\\begin{matrix}\\frac{v_{1} x_{1}}{\\sqrt{x_{1}^{2} + x_{2}^{2}}} - v_{2} x_{2}\\\\\\frac{v_{1} x_{2}}{\\sqrt{x_{1}^{2} + x_{2}^{2}}} + v_{2} x_{1}\\end{matrix}\\right]$$"
      ],
      "text/plain": [
       "uue := ⎡    v₁⋅x₁             ⎤\n",
       "⎢────────────── - v₂⋅x₂⎥\n",
       "⎢   ___________        ⎥\n",
       "⎢  ╱   2     2         ⎥\n",
       "⎢╲╱  x₁  + x₂          ⎥\n",
       "⎢                      ⎥\n",
       "⎢    v₁⋅x₂             ⎥\n",
       "⎢────────────── + v₂⋅x₁⎥\n",
       "⎢   ___________        ⎥\n",
       "⎢  ╱   2     2         ⎥\n",
       "⎣╲╱  x₁  + x₂          ⎦"
      ]
     },
     "metadata": {},
     "output_type": "display_data"
    },
    {
     "name": "stdout",
     "output_type": "stream",
     "text": [
      "---\n"
     ]
    }
   ],
   "source": [
    "M = vve.jacobian(uu).inverse_ADJ()\n",
    "M.simplify()\n",
    "M.subs(rplm1) ##:\n",
    "\n",
    "# uue = M.subs(rplm1) * vv ##:\n",
    "\n",
    "uue = M.subs(st.rev_tuple(rplm1[:1])) * vv ##:"
   ]
  },
  {
   "cell_type": "code",
   "execution_count": 16,
   "metadata": {},
   "outputs": [
    {
     "name": "stdout",
     "output_type": "stream",
     "text": [
      "\\left(\\begin{matrix}\n",
      "\\frac{v_{1} x_{1}}{\\sqrt{x_{1}^{2} + x_{2}^{2}}} - v_{2} x_{2}\\\\\n",
      "\\frac{v_{1} x_{2}}{\\sqrt{x_{1}^{2} + x_{2}^{2}}} + v_{2} x_{1}\n",
      "\\end{matrix}\\right)\n",
      "% -------------\n"
     ]
    }
   ],
   "source": [
    "ia.adapted_latex(uue)"
   ]
  },
  {
   "cell_type": "code",
   "execution_count": 17,
   "metadata": {},
   "outputs": [
    {
     "data": {
      "image/png": "[encoded data removed]",
      "text/latex": [
       "$$\\left[\\begin{matrix}v_{1}\\\\v_{2}\\end{matrix}\\right]$$"
      ],
      "text/plain": [
       "⎡v₁⎤\n",
       "⎢  ⎥\n",
       "⎣v₂⎦"
      ]
     },
     "execution_count": 17,
     "metadata": {},
     "output_type": "execute_result"
    }
   ],
   "source": [
    "# probe\n",
    "vve.subz(uu, uue).smplf.subs(st.rev_tuple(rplm1[:1]))"
   ]
  },
  {
   "cell_type": "code",
   "execution_count": 18,
   "metadata": {},
   "outputs": [
    {
     "data": {
      "image/png": "[encoded data removed]",
      "text/latex": [
       "$$\\left[\\begin{matrix}v_{1}\\\\v_{2}\\\\- v_{2} z_{1}^{2}\\end{matrix}\\right]$$"
      ],
      "text/plain": [
       "⎡  v₁   ⎤\n",
       "⎢       ⎥\n",
       "⎢  v₂   ⎥\n",
       "⎢       ⎥\n",
       "⎢      2⎥\n",
       "⎣-v₂⋅z₁ ⎦"
      ]
     },
     "execution_count": 18,
     "metadata": {},
     "output_type": "execute_result"
    }
   ],
   "source": [
    "ffz"
   ]
  },
  {
   "cell_type": "markdown",
   "metadata": {},
   "source": [
    "### Konstrunktion einer möglichst kurzen Kurve von der z3-Achse in den Ursprung\n",
    "\n",
    "Drei Phasen:\n",
    "1. $z_1$ vergrößern → $r_1$\n",
    "2. mit $v_2=$const nach unten/oben \"schrauben\" ($z_2$ und $z_3$ verändern, bis $z_3=0$)\n",
    "3. $z_1$ verkleinern\n",
    "\n",
    "\n",
    "\\begin{align}\n",
    "%\\label{eq_}\n",
    "L &= r_1 + \\int_0^T \\sqrt{\\dot x_1^2 +  \\dot x_2^2 + \\dot x_3^2 }\\, dt + r_1\\\\\n",
    "&= r_1 + \\int_0^T \\sqrt{(r_1 \\dot z_2)^2 + \\dot z_3^2 }\\, dt + r_1\\\\\n",
    "&= 2 r_1 + \\int_0^T \\sqrt{  (r_1 v_2)^2 + r_1^4 v_2^2}\\, dt \\\\\n",
    "&= 2 r_1 + (r_1 v_2)\\sqrt{( 1+ r_1^2)} \\int_0^T \\, dt \\\\\n",
    "&= 2 r_1 + (r_1 v_2)\\sqrt{( 1+ r_1^2)}T \\\\\n",
    "\\end{align}\n",
    "\n",
    "\n",
    "$\n",
    "\\Delta z_3 = - T r_1^2 v_2 \\quad \\Rightarrow \\quad T = - \\frac{\\Delta  z_3 }{r_1^2 v_2}\n",
    "$\n",
    "\n",
    "<br>\n",
    "\n",
    "$\n",
    "\\Rightarrow L= 2 r_1 - (r_1 v_2)\\sqrt{( 1+ r_1^2)} \\cdot \\frac{\\Delta  z_3 }{r_1^2 v_2}\n",
    "$"
   ]
  },
  {
   "cell_type": "code",
   "execution_count": 19,
   "metadata": {},
   "outputs": [
    {
     "data": {
      "image/png": "[encoded data removed]",
      "text/latex": [
       "$$r_{1}$$"
      ],
      "text/plain": [
       "r₁"
      ]
     },
     "metadata": {},
     "output_type": "display_data"
    },
    {
     "data": {
      "image/png": "[encoded data removed]",
      "text/latex": [
       "$$\\Delta{}z_3$$"
      ],
      "text/plain": [
       "\\Delta{}z₃"
      ]
     },
     "metadata": {},
     "output_type": "display_data"
    },
    {
     "name": "stdout",
     "output_type": "stream",
     "text": [
      "---\n"
     ]
    }
   ],
   "source": [
    "\n",
    "r1, dz3 = sp.symbols('r1, \\Delta{}z_3', positive=True) ##"
   ]
  },
  {
   "cell_type": "code",
   "execution_count": 20,
   "metadata": {},
   "outputs": [
    {
     "data": {
      "image/png": "[encoded data removed]",
      "text/latex": [
       "$$\\verb|Le| := - \\frac{\\Delta{}z_3}{r_{1}} \\sqrt{r_{1}^{2} + 1} + 2 r_{1}$$"
      ],
      "text/plain": [
       "Le :=                 _________       \n",
       "               ╱   2            \n",
       "  \\Delta{}z₃⋅╲╱  r₁  + 1        \n",
       "- ─────────────────────── + 2⋅r₁\n",
       "             r₁                 "
      ]
     },
     "metadata": {},
     "output_type": "display_data"
    },
    {
     "name": "stdout",
     "output_type": "stream",
     "text": [
      "---\n"
     ]
    }
   ],
   "source": [
    "Le = sp.expand(2*r1-(r1*v2)*sp.sqrt(1+r1**2)*dz3/r1**2/v2) ##:"
   ]
  },
  {
   "cell_type": "code",
   "execution_count": 21,
   "metadata": {},
   "outputs": [
    {
     "data": {
      "image/png": "[encoded data removed]",
      "text/latex": [
       "$$\\verb|Led| := \\frac{\\Delta{}z_3}{r_{1}^{2} \\sqrt{r_{1}^{2} + 1}} + 2$$"
      ],
      "text/plain": [
       "Led :=    \\Delta{}z₃       \n",
       "──────────────── + 2\n",
       "       _________    \n",
       "  2   ╱   2         \n",
       "r₁ ⋅╲╱  r₁  + 1     "
      ]
     },
     "metadata": {},
     "output_type": "display_data"
    },
    {
     "name": "stdout",
     "output_type": "stream",
     "text": [
      "---\n",
      "\\frac{\\Delta{}z_3}{r_{1}^{2} \\sqrt{r_{1}^{2} + 1}} + 2\n",
      "% -------------\n"
     ]
    }
   ],
   "source": [
    "Led = Le.diff(r1).smplf ##:\n",
    "\n",
    "ia.adapted_latex(Led)"
   ]
  },
  {
   "cell_type": "code",
   "execution_count": 22,
   "metadata": {},
   "outputs": [
    {
     "data": {
      "image/png": "[encoded data removed]",
      "text/latex": [
       "$$\\verb|Ledx| := \\frac{\\Delta{}z_3}{x \\sqrt{x + 1}} + 2$$"
      ],
      "text/plain": [
       "Ledx :=  \\Delta{}z₃    \n",
       "─────────── + 2\n",
       "    _______    \n",
       "x⋅╲╱ x + 1     "
      ]
     },
     "metadata": {},
     "output_type": "display_data"
    },
    {
     "name": "stdout",
     "output_type": "stream",
     "text": [
      "---\n"
     ]
    }
   ],
   "source": [
    "# manual solution (biquadratic equation)\n",
    "x = sp.Symbol(\"x\")\n",
    "Ledx = Led.subs(r1**2, x) ##:"
   ]
  },
  {
   "cell_type": "code",
   "execution_count": 23,
   "metadata": {},
   "outputs": [],
   "source": [
    "sol1, sol2, sol3 = sp.solve(Ledx, x)"
   ]
  },
  {
   "cell_type": "code",
   "execution_count": 27,
   "metadata": {},
   "outputs": [],
   "source": [
    "# generate some latex for the slides\n",
    "# ia.adapted_latex(sol2)"
   ]
  },
  {
   "cell_type": "code",
   "execution_count": 28,
   "metadata": {},
   "outputs": [
    {
     "data": {
      "image/png": "[encoded data removed]",
      "text/latex": [
       "$$\\Delta{}z_3$$"
      ],
      "text/plain": [
       "\\Delta{}z₃"
      ]
     },
     "execution_count": 28,
     "metadata": {},
     "output_type": "execute_result"
    }
   ],
   "source": [
    "dz3"
   ]
  },
  {
   "cell_type": "code",
   "execution_count": 29,
   "metadata": {},
   "outputs": [],
   "source": [
    "sol = sp.solve(Le.diff(r1), r1)"
   ]
  },
  {
   "cell_type": "code",
   "execution_count": 30,
   "metadata": {},
   "outputs": [
    {
     "data": {
      "image/png": "[encoded data removed]",
      "text/plain": [
       "<matplotlib.figure.Figure at 0x7faf4ea3cf98>"
      ]
     },
     "metadata": {},
     "output_type": "display_data"
    },
    {
     "data": {
      "text/plain": [
       "<sympy.plotting.plot.Plot at 0x7faf4e8b7320>"
      ]
     },
     "execution_count": 30,
     "metadata": {},
     "output_type": "execute_result"
    }
   ],
   "source": [
    "sp.plot(Le.subs(dz3, 2), (r1, 0, 5), ylim=(-1, 10))"
   ]
  },
  {
   "cell_type": "code",
   "execution_count": 31,
   "metadata": {},
   "outputs": [
    {
     "name": "stdout",
     "output_type": "stream",
     "text": [
      "0 -0.176100564369479 - 0.860716618623568*I\n",
      "1 0.176100564369479 + 0.860716618623568*I\n",
      "2 -0.647798871261042 - 4.67618288267623e-27*I\n",
      "3 0.647798871261042 + 0.e-25*I\n",
      "4 -0.176100564369479 + 0.860716618623568*I\n",
      "5 0.176100564369479 - 0.860716618623568*I\n"
     ]
    }
   ],
   "source": [
    "for i, s in enumerate(sol):\n",
    "    print(i, s.subs(dz3, 1).evalf())"
   ]
  },
  {
   "cell_type": "code",
   "execution_count": 32,
   "metadata": {},
   "outputs": [
    {
     "name": "stdout",
     "output_type": "stream",
     "text": [
      "0.0706227831905930\n",
      "0.220957890360505\n",
      "0.647798871261042\n",
      "1.62044085898296\n"
     ]
    }
   ],
   "source": [
    "def r1_opt(dz3_value):\n",
    "    results = [s.subs(dz3, dz3_value).evalf() for s in sol]\n",
    "    \n",
    "    results.sort(key=lambda x: abs(sp.im(x)))\n",
    "    \n",
    "    r1 = sp.re(results[0])\n",
    "    if r1 < 0:\n",
    "        r1 = sp.re(results[1])\n",
    "    assert r1 >= 0\n",
    "    return r1\n",
    "\n",
    "# Probe\n",
    "for p in [0.01, .1, 1, 10]:\n",
    "    print(r1_opt(p))\n",
    "    "
   ]
  },
  {
   "cell_type": "code",
   "execution_count": 33,
   "metadata": {},
   "outputs": [],
   "source": [
    "# Speedup the evaluation later (prepare values for interpolation)\n",
    "zz3 = np.logspace(-3, 3, 100)\n",
    "\n",
    "rr_opt = [r1_opt(z3_value) for z3_value in zz3]\n"
   ]
  },
  {
   "cell_type": "code",
   "execution_count": 34,
   "metadata": {},
   "outputs": [],
   "source": [
    "r1_opt_interp = sc.interpolate.interp1d(zz3, rr_opt, bounds_error=False, fill_value=\"extrapolate\")"
   ]
  },
  {
   "cell_type": "markdown",
   "metadata": {},
   "source": [
    "#### optimaler Wert von $r_1$ in Abhängigkeit von $\\Delta z_3$"
   ]
  },
  {
   "cell_type": "code",
   "execution_count": 35,
   "metadata": {},
   "outputs": [
    {
     "data": {
      "text/plain": [
       "[<matplotlib.lines.Line2D at 0x7faf46694940>]"
      ]
     },
     "execution_count": 35,
     "metadata": {},
     "output_type": "execute_result"
    },
    {
     "data": {
      "image/png": "[encoded data removed]",
      "text/plain": [
       "<matplotlib.figure.Figure at 0x7faf469f4470>"
      ]
     },
     "metadata": {},
     "output_type": "display_data"
    }
   ],
   "source": [
    "plt.plot(zz3, r1_opt_interp(zz3))"
   ]
  },
  {
   "cell_type": "code",
   "execution_count": 36,
   "metadata": {},
   "outputs": [
    {
     "data": {
      "image/png": "[encoded data removed]",
      "text/plain": [
       "<matplotlib.figure.Figure at 0x7faf4667d2b0>"
      ]
     },
     "metadata": {},
     "output_type": "display_data"
    }
   ],
   "source": [
    "# produce figrue for the slides\n",
    "\n",
    "plt.rcParams['font.size'] = 26\n",
    "plt.rcParams['axes.labelsize'] = 38\n",
    "\n",
    "zz3 = np.logspace(-3, 1, 100)\n",
    "plt.plot(zz3, r1_opt_interp(zz3), lw=3)\n",
    "plt.xlabel(r\"$\\Delta z$\")\n",
    "plt.ylabel(r\"$r_\\mathrm{opt}$\")\n",
    "plt.savefig(\"r_opt__Delta_z.pdf\")"
   ]
  },
  {
   "cell_type": "code",
   "execution_count": null,
   "metadata": {},
   "outputs": [],
   "source": []
  },
  {
   "cell_type": "code",
   "execution_count": 37,
   "metadata": {},
   "outputs": [
    {
     "data": {
      "text/plain": [
       "r1_opt_interp(.7)  := array(0.5533069892183082)"
      ]
     },
     "metadata": {},
     "output_type": "display_data"
    },
    {
     "name": "stdout",
     "output_type": "stream",
     "text": [
      "___\n"
     ]
    },
    {
     "data": {
      "image/png": "[encoded data removed]",
      "text/latex": [
       "$$\\verb|r1_opt(.7)| := 0.553386498134765$$"
      ],
      "text/plain": [
       "r1_opt(.7) := 0.553386498134765"
      ]
     },
     "metadata": {},
     "output_type": "display_data"
    },
    {
     "name": "stdout",
     "output_type": "stream",
     "text": [
      "___\n"
     ]
    }
   ],
   "source": [
    "# Stichproben-Vergleich:\n",
    "\n",
    "r1_opt_interp(.7) ##:\n",
    "r1_opt(.7)##:"
   ]
  },
  {
   "cell_type": "markdown",
   "metadata": {},
   "source": [
    "### Simulation Experiments\n",
    "\n",
    "#### Vector Field"
   ]
  },
  {
   "cell_type": "code",
   "execution_count": 42,
   "metadata": {},
   "outputs": [],
   "source": [
    "def rhs(state, _):\n",
    "    u1, u2 = controller(state)\n",
    "    x1, x2, x3 = state\n",
    "    return np.array([u1, u2, x2*u1 - x1*u2])\n",
    "\n",
    "vv_to_uu = sp.lambdify((v1, v2, x1, x2), list(uue))\n",
    "z3_tol = 1e-2\n"
   ]
  },
  {
   "cell_type": "markdown",
   "metadata": {},
   "source": [
    "#### Control Law"
   ]
  },
  {
   "cell_type": "code",
   "execution_count": 43,
   "metadata": {},
   "outputs": [],
   "source": [
    "def controller(state):\n",
    "    x1, x2, x3 = state\n",
    "    z1 = np.sqrt(x1**2 + x2**2)\n",
    "    z3 = x3\n",
    "    \n",
    "    r1_opt_value = r1_opt_interp(abs(z3))\n",
    "    \n",
    "    if z1 == 0:\n",
    "        # go in x1 direction if phi is not well definded (at r=0)\n",
    "        return [1, 0]\n",
    "    \n",
    "    if z1 < r1_opt_value and abs(z3) >= z3_tol:\n",
    "        # Phase 1\n",
    "        v1 = 1\n",
    "        v2 = 0\n",
    "    \n",
    "    elif z1 >= r1_opt_value and abs(z3) >= z3_tol:\n",
    "        # Phase 2\n",
    "        v1 = 0\n",
    "        v2 = np.sign(z3)\n",
    "    elif abs(z3) < z3_tol:\n",
    "        # Phase 3\n",
    "        v1 = -1\n",
    "        v2 = 0\n",
    "    else:\n",
    "        raise ValueError(\"Unexpected state: %s\" % state)\n",
    "        \n",
    "    # calculate u1, u2, from v1, v2\n",
    "    return vv_to_uu(v1, v2, x1, x2)"
   ]
  },
  {
   "cell_type": "markdown",
   "metadata": {},
   "source": [
    "#### Euler-Vorwärts-Verfahren für Integration"
   ]
  },
  {
   "cell_type": "code",
   "execution_count": 44,
   "metadata": {},
   "outputs": [],
   "source": [
    "def euler(rhs, y0, T, dt=.01):\n",
    "    res=[y0]\n",
    "    tt=[0]\n",
    "    while tt[-1] <= T:\n",
    "        x_old = res[-1]\n",
    "        res.append(x_old+dt*rhs(x_old, 0))\n",
    "        tt.append(tt[-1] + dt)\n",
    "    return tt, np.array(res)\n",
    "    \n",
    "    "
   ]
  },
  {
   "cell_type": "code",
   "execution_count": 45,
   "metadata": {},
   "outputs": [],
   "source": [
    "tt = np.linspace(0, 5, int(1e2))\n",
    "xx0 = np.array([1, 0, 5])\n",
    "\n",
    "\n",
    "controller(xx0)\n",
    "rhs(xx0, 0)\n",
    "\n",
    "def simulate(xx0):\n",
    "    tt, xxn = euler(rhs, xx0, 4, dt=.01)\n",
    "    return np.array(xxn)\n",
    "\n"
   ]
  },
  {
   "cell_type": "code",
   "execution_count": 46,
   "metadata": {},
   "outputs": [],
   "source": [
    "N = 5\n",
    "np.random.seed(1)\n",
    "xx0_values = (np.random.rand(N, 3) - .5)*1\n",
    "\n",
    "res = [simulate(xx0) for xx0 in xx0_values]"
   ]
  },
  {
   "cell_type": "code",
   "execution_count": 47,
   "metadata": {},
   "outputs": [
    {
     "data": {
      "image/png": "[encoded data removed]",
      "text/plain": [
       "<matplotlib.figure.Figure at 0x7faf4ecee860>"
      ]
     },
     "metadata": {},
     "output_type": "display_data"
    },
    {
     "data": {
      "image/png": "[encoded data removed]",
      "text/plain": [
       "<matplotlib.figure.Figure at 0x7faf465b6710>"
      ]
     },
     "metadata": {},
     "output_type": "display_data"
    },
    {
     "data": {
      "image/png": "[encoded data removed]",
      "text/plain": [
       "<matplotlib.figure.Figure at 0x7faf45a78908>"
      ]
     },
     "metadata": {},
     "output_type": "display_data"
    }
   ],
   "source": [
    "# Interaktives Plot-Fenster:\n",
    "# %matplotlib qt5\n",
    "\n",
    "# Alternativ: Grafiken Eingebunden\n",
    "%matplotlib inline\n",
    "\n",
    "plt.rcParams['font.size'] = 20\n",
    "plt.rcParams['axes.labelsize'] = 26\n",
    "\n",
    "fig_3d = plt.figure(1)\n",
    "ax0 = fig_3d.gca(projection='3d')\n",
    "\n",
    "fig_xx = plt.figure(2)\n",
    "ax1 = plt.subplot(311)\n",
    "ax2 = plt.subplot(312)\n",
    "ax3 = plt.subplot(313)\n",
    "\n",
    "fig_rphi = plt.figure(3)\n",
    "\n",
    "ax4 = plt.subplot(211)\n",
    "ax5 = plt.subplot(212)\n",
    "\n",
    "for xxn in res:\n",
    "    z1 = np.sqrt(xxn[:, 0]**2 + xxn[:, 1]**2)\n",
    "    z2 = np.arctan2(xxn[:, 0], xxn[:, 1])\n",
    "    z3 = xxn[:, 2]\n",
    "    \n",
    "    ax0.plot(xxn[:, 0], xxn[:, 1], xxn[:, 2])\n",
    "    ax1.plot(xxn[:, 0])\n",
    "    ax2.plot(xxn[:, 1])\n",
    "    ax3.plot(xxn[:, 2])\n",
    "    \n",
    "    ax4.plot(z1)\n",
    "    ax5.plot(z2)\n",
    "\n",
    "ax1.set_ylabel(\"$x_1$\")\n",
    "ax2.set_ylabel(\"$x_2$\")\n",
    "ax3.set_ylabel(\"$x_3$\")\n",
    "\n",
    "ax4.set_ylabel(\"$r$\")\n",
    "ax5.set_ylabel(r\"$\\varphi$\")\n",
    "\n",
    "fig_3d.savefig(\"bi-3d-01.pdf\")\n",
    "fig_xx.savefig(\"bi-xx-01.pdf\")\n",
    "fig_rphi.savefig(\"bi-rphi-01.pdf\")\n",
    "plt.show()\n"
   ]
  },
  {
   "cell_type": "code",
   "execution_count": null,
   "metadata": {},
   "outputs": [],
   "source": []
  }
 ],
 "metadata": {
  "kernelspec": {
   "display_name": "Python 3",
   "language": "python",
   "name": "python3"
  },
  "language_info": {
   "codemirror_mode": {
    "name": "ipython",
    "version": 3
   },
   "file_extension": ".py",
   "mimetype": "text/x-python",
   "name": "python",
   "nbconvert_exporter": "python",
   "pygments_lexer": "ipython3",
   "version": "3.6.3"
  }
 },
 "nbformat": 4,
 "nbformat_minor": 2
}
